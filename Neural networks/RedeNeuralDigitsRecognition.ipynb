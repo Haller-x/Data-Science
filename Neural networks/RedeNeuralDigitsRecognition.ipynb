{
 "cells": [
  {
   "cell_type": "markdown",
   "metadata": {},
   "source": [
    "#### Redes Neurais\n",
    "##### Etapas\n",
    "     - Carregando as bibliotecas\n",
    "     - Carregando as bases de dados\n",
    "     - Visualização dos dados\n",
    "     - Construção do alvo\n",
    "     - Treinamento do model\n",
    "     - Avaliação dos resultados\n",
    "     - Tratamento dos resultados\n",
    "     - Re-treinamento do modelo\n",
    "     - Re-avaliação do modelo\n",
    "     - Auto test\n",
    "     - Salvando o modelo para o uso futuro com pickle\n",
    "#### Arquivos podem ser baixados [Aqui](https://www.kaggle.com/c/digit-recognizer)"
   ]
  },
  {
   "cell_type": "markdown",
   "metadata": {},
   "source": [
    "#### Importando as bibliotecas!"
   ]
  },
  {
   "cell_type": "code",
   "execution_count": 41,
   "metadata": {},
   "outputs": [],
   "source": [
    "import pandas as pd\n",
    "import numpy as np\n",
    "import matplotlib.pyplot as plt\n",
    "from sklearn.neural_network import MLPClassifier\n",
    "from sklearn.metrics import confusion_matrix, classification_report\n",
    "%matplotlib inline\n",
    "import sys\n",
    "if not sys.warnoptions:\n",
    "    import warnings\n",
    "    warnings.simplefilter('ignore')"
   ]
  },
  {
   "cell_type": "markdown",
   "metadata": {},
   "source": [
    "#### Carregando a base de dados"
   ]
  },
  {
   "cell_type": "code",
   "execution_count": 42,
   "metadata": {},
   "outputs": [],
   "source": [
    "train = pd.read_csv('mnist_train.csv', sep=',', header=None)\n",
    "test= pd.read_csv('mnist_test.csv', sep=',', header=None)"
   ]
  },
  {
   "cell_type": "code",
   "execution_count": 43,
   "metadata": {},
   "outputs": [
    {
     "data": {
      "text/plain": [
       "(60000, 785)"
      ]
     },
     "execution_count": 43,
     "metadata": {},
     "output_type": "execute_result"
    }
   ],
   "source": [
    "train.shape"
   ]
  },
  {
   "cell_type": "code",
   "execution_count": 44,
   "metadata": {},
   "outputs": [
    {
     "data": {
      "text/plain": [
       "Int64Index([  0,   1,   2,   3,   4,   5,   6,   7,   8,   9,\n",
       "            ...\n",
       "            775, 776, 777, 778, 779, 780, 781, 782, 783, 784],\n",
       "           dtype='int64', length=785)"
      ]
     },
     "execution_count": 44,
     "metadata": {},
     "output_type": "execute_result"
    }
   ],
   "source": [
    "train.columns"
   ]
  },
  {
   "cell_type": "code",
   "execution_count": 48,
   "metadata": {},
   "outputs": [
    {
     "data": {
      "image/png": "[encoded data removed]",
      "text/plain": [
       "<Figure size 432x288 with 1 Axes>"
      ]
     },
     "metadata": {
      "needs_background": "light"
     },
     "output_type": "display_data"
    }
   ],
   "source": [
    "number = train.iloc[12][1:train.shape[1]]\n",
    "number_matrix = number.values.reshape(28,28)\n",
    "plt.imshow(number_matrix)\n",
    "plt.axis('off');"
   ]
  },
  {
   "cell_type": "code",
   "execution_count": 49,
   "metadata": {},
   "outputs": [
    {
     "data": {
      "image/png": "[encoded data removed]",
      "text/plain": [
       "<Figure size 432x288 with 4 Axes>"
      ]
     },
     "metadata": {
      "needs_background": "light"
     },
     "output_type": "display_data"
    }
   ],
   "source": [
    "number = train.iloc[0][1:]\n",
    "number_matrix =number.values.reshape(28,28)\n",
    "plt.subplot(221)\n",
    "plt.imshow(number_matrix)\n",
    "plt.axis('off');\n",
    "number = train.iloc[8][1:]\n",
    "number_matrix =number.values.reshape(28,28)\n",
    "plt.subplot(222)\n",
    "plt.imshow(number_matrix)\n",
    "plt.axis('off');\n",
    "number = train.iloc[85][1:]\n",
    "number_matrix =number.values.reshape(28,28)\n",
    "plt.subplot(223)\n",
    "plt.imshow(number_matrix)\n",
    "plt.axis('off');\n",
    "number = train.iloc[42][1:]\n",
    "number_matrix =number.values.reshape(28,28)\n",
    "plt.subplot(224)\n",
    "plt.imshow(number_matrix)\n",
    "plt.axis('off');"
   ]
  },
  {
   "cell_type": "code",
   "execution_count": 50,
   "metadata": {},
   "outputs": [],
   "source": [
    "#Separando os dados de treino e teste em x e y\n",
    "y_train = train.iloc[0:][0]\n",
    "y_test = test.iloc[0:][0]\n",
    "\n",
    "x_train = train.ix[:,1:]\n",
    "x_test = test.ix[:,1:]"
   ]
  },
  {
   "cell_type": "markdown",
   "metadata": {},
   "source": [
    "**Treinamento do modelo**"
   ]
  },
  {
   "cell_type": "code",
   "execution_count": 51,
   "metadata": {},
   "outputs": [
    {
     "name": "stdout",
     "output_type": "stream",
     "text": [
      "Iteration 1, loss = 1.15432784\n",
      "Iteration 2, loss = 1.14906421\n",
      "Iteration 3, loss = 1.08979878\n",
      "Iteration 4, loss = 1.10766495\n",
      "Iteration 5, loss = 1.13644392\n",
      "Iteration 6, loss = 1.00334137\n",
      "Iteration 7, loss = 1.05167171\n",
      "Iteration 8, loss = 1.01105161\n",
      "Iteration 9, loss = 1.01840839\n",
      "Iteration 10, loss = 1.02912527\n",
      "Iteration 11, loss = 0.98881480\n",
      "Iteration 12, loss = 0.94192029\n",
      "Iteration 13, loss = 0.88954251\n",
      "Iteration 14, loss = 0.91068497\n",
      "Iteration 15, loss = 0.90827545\n",
      "Iteration 16, loss = 0.89854651\n",
      "Iteration 17, loss = 0.90909240\n",
      "Iteration 18, loss = 0.89082215\n",
      "Iteration 19, loss = 0.89067268\n",
      "Iteration 20, loss = 0.94124863\n",
      "Iteration 21, loss = 0.92549755\n",
      "Iteration 22, loss = 0.90115072\n",
      "Iteration 23, loss = 0.80467931\n",
      "Iteration 24, loss = 0.80042095\n",
      "Iteration 25, loss = 0.80837307\n",
      "Iteration 26, loss = 0.82376584\n",
      "Iteration 27, loss = 0.86362992\n",
      "Iteration 28, loss = 0.91650116\n",
      "Iteration 29, loss = 0.88648698\n",
      "Iteration 30, loss = 0.84848371\n",
      "Iteration 31, loss = 0.84630313\n",
      "Iteration 32, loss = 0.96060244\n",
      "Iteration 33, loss = 0.90612770\n",
      "Iteration 34, loss = 0.82772087\n",
      "Iteration 35, loss = 0.82852209\n",
      "Training loss did not improve more than tol=0.000100 for 10 consecutive epochs. Stopping.\n"
     ]
    },
    {
     "data": {
      "text/plain": [
       "MLPClassifier(activation='logistic', hidden_layer_sizes=50,\n",
       "              learning_rate_init=0.1, max_iter=150, random_state=42,\n",
       "              solver='sgd', verbose=10)"
      ]
     },
     "execution_count": 51,
     "metadata": {},
     "output_type": "execute_result"
    }
   ],
   "source": [
    "mlp1 = MLPClassifier(hidden_layer_sizes =(50), max_iter = 150, solver='sgd', verbose = 10, tol = 1e-4, random_state=42,\n",
    "                    learning_rate_init=0.1, activation='logistic')\n",
    "mlp1.fit(x_train,y_train)"
   ]
  },
  {
   "cell_type": "code",
   "execution_count": 53,
   "metadata": {},
   "outputs": [],
   "source": [
    "y_pred_test1 = mlp1.predict(x_test)"
   ]
  },
  {
   "cell_type": "markdown",
   "metadata": {},
   "source": [
    "**Avaliação dos resultados**"
   ]
  },
  {
   "cell_type": "code",
   "execution_count": 56,
   "metadata": {},
   "outputs": [
    {
     "name": "stdout",
     "output_type": "stream",
     "text": [
      "[[896   0   4   3   0  48   7   0   9  13]\n",
      " [  0 996  78   8   0   1   3   5  44   0]\n",
      " [ 31  26 767  42  31   4  55  46  14  16]\n",
      " [ 16  16  44 580   1 229   2  47  66   9]\n",
      " [  1   3  22   6 381   0 105   5 251 208]\n",
      " [ 57   6  11  78  30 494  68  19 120   9]\n",
      " [ 42   4 100   1  28   4 761   0   3  15]\n",
      " [ 13  11  39   7   3   3   2 773   9 168]\n",
      " [ 10  23   1   8  11  68  24  57 643 129]\n",
      " [  7   1  13   9  28  14   7 190 137 603]]\n",
      "\n",
      "--------------------------------------------\n",
      "\n",
      "              precision    recall  f1-score   support\n",
      "\n",
      "           0       0.84      0.91      0.87       980\n",
      "           1       0.92      0.88      0.90      1135\n",
      "           2       0.71      0.74      0.73      1032\n",
      "           3       0.78      0.57      0.66      1010\n",
      "           4       0.74      0.39      0.51       982\n",
      "           5       0.57      0.55      0.56       892\n",
      "           6       0.74      0.79      0.76       958\n",
      "           7       0.68      0.75      0.71      1028\n",
      "           8       0.50      0.66      0.57       974\n",
      "           9       0.52      0.60      0.55      1009\n",
      "\n",
      "    accuracy                           0.69     10000\n",
      "   macro avg       0.70      0.69      0.68     10000\n",
      "weighted avg       0.70      0.69      0.69     10000\n",
      "\n"
     ]
    }
   ],
   "source": [
    "print(confusion_matrix(y_test,y_pred_test1))\n",
    "print('\\n--------------------------------------------\\n')\n",
    "print(classification_report(y_test,y_pred_test1))"
   ]
  },
  {
   "cell_type": "code",
   "execution_count": 57,
   "metadata": {},
   "outputs": [
    {
     "name": "stdout",
     "output_type": "stream",
     "text": [
      "Acc. treinamento 0.6852833333333334\n",
      "Acc. teste 0.6894\n"
     ]
    }
   ],
   "source": [
    "print(\"Acc. treinamento\", mlp1.score(x_train, y_train))\n",
    "print('Acc. teste', mlp1.score(x_test,y_test))"
   ]
  },
  {
   "cell_type": "markdown",
   "metadata": {},
   "source": [
    "**Tratamento dos dados**"
   ]
  },
  {
   "cell_type": "code",
   "execution_count": 58,
   "metadata": {},
   "outputs": [],
   "source": [
    "fator = 0.98/255\n",
    "min_val = 0.01"
   ]
  },
  {
   "cell_type": "code",
   "execution_count": 59,
   "metadata": {},
   "outputs": [],
   "source": [
    "x_train1 = x_train*fator + min_val\n",
    "x_test1 = x_test*fator + min_val"
   ]
  },
  {
   "cell_type": "markdown",
   "metadata": {},
   "source": [
    "**Retreinamento do modelo**"
   ]
  },
  {
   "cell_type": "code",
   "execution_count": 61,
   "metadata": {},
   "outputs": [
    {
     "name": "stdout",
     "output_type": "stream",
     "text": [
      "Iteration 1, loss = 0.58492639\n",
      "Iteration 2, loss = 0.26385720\n",
      "Iteration 3, loss = 0.21495828\n",
      "Iteration 4, loss = 0.18227532\n",
      "Iteration 5, loss = 0.15930053\n",
      "Iteration 6, loss = 0.14165326\n",
      "Iteration 7, loss = 0.12887018\n",
      "Iteration 8, loss = 0.11798395\n",
      "Iteration 9, loss = 0.10924618\n",
      "Iteration 10, loss = 0.10151903\n",
      "Iteration 11, loss = 0.09503113\n",
      "Iteration 12, loss = 0.08983487\n",
      "Iteration 13, loss = 0.08482787\n",
      "Iteration 14, loss = 0.08067506\n",
      "Iteration 15, loss = 0.07662273\n",
      "Iteration 16, loss = 0.07306460\n",
      "Iteration 17, loss = 0.06960983\n",
      "Iteration 18, loss = 0.06681942\n",
      "Iteration 19, loss = 0.06404990\n",
      "Iteration 20, loss = 0.06164352\n",
      "Iteration 21, loss = 0.05920851\n",
      "Iteration 22, loss = 0.05711106\n",
      "Iteration 23, loss = 0.05483017\n",
      "Iteration 24, loss = 0.05305846\n",
      "Iteration 25, loss = 0.05141709\n",
      "Iteration 26, loss = 0.04953903\n",
      "Iteration 27, loss = 0.04777916\n",
      "Iteration 28, loss = 0.04616530\n",
      "Iteration 29, loss = 0.04464088\n",
      "Iteration 30, loss = 0.04331732\n",
      "Iteration 31, loss = 0.04185369\n",
      "Iteration 32, loss = 0.04086065\n",
      "Iteration 33, loss = 0.03940869\n",
      "Iteration 34, loss = 0.03823006\n",
      "Iteration 35, loss = 0.03711548\n",
      "Iteration 36, loss = 0.03615468\n",
      "Iteration 37, loss = 0.03504847\n",
      "Iteration 38, loss = 0.03403074\n",
      "Iteration 39, loss = 0.03301338\n",
      "Iteration 40, loss = 0.03201726\n",
      "Iteration 41, loss = 0.03127302\n",
      "Iteration 42, loss = 0.03033998\n",
      "Iteration 43, loss = 0.02949336\n",
      "Iteration 44, loss = 0.02875364\n",
      "Iteration 45, loss = 0.02786660\n",
      "Iteration 46, loss = 0.02732263\n",
      "Iteration 47, loss = 0.02651039\n",
      "Iteration 48, loss = 0.02599022\n",
      "Iteration 49, loss = 0.02527279\n",
      "Iteration 50, loss = 0.02470681\n",
      "Iteration 51, loss = 0.02388101\n",
      "Iteration 52, loss = 0.02354249\n",
      "Iteration 53, loss = 0.02286775\n",
      "Iteration 54, loss = 0.02254819\n",
      "Iteration 55, loss = 0.02178867\n",
      "Iteration 56, loss = 0.02138577\n",
      "Iteration 57, loss = 0.02078920\n",
      "Iteration 58, loss = 0.02043365\n",
      "Iteration 59, loss = 0.02000031\n",
      "Iteration 60, loss = 0.01939201\n",
      "Iteration 61, loss = 0.01891785\n",
      "Iteration 62, loss = 0.01869493\n",
      "Iteration 63, loss = 0.01818287\n",
      "Iteration 64, loss = 0.01773986\n",
      "Iteration 65, loss = 0.01744384\n",
      "Iteration 66, loss = 0.01703238\n",
      "Iteration 67, loss = 0.01671402\n",
      "Iteration 68, loss = 0.01642780\n",
      "Iteration 69, loss = 0.01597600\n",
      "Iteration 70, loss = 0.01577658\n",
      "Iteration 71, loss = 0.01540060\n",
      "Iteration 72, loss = 0.01496355\n",
      "Iteration 73, loss = 0.01480706\n",
      "Iteration 74, loss = 0.01465446\n",
      "Iteration 75, loss = 0.01428300\n",
      "Iteration 76, loss = 0.01397566\n",
      "Iteration 77, loss = 0.01381965\n",
      "Iteration 78, loss = 0.01356743\n",
      "Iteration 79, loss = 0.01323671\n",
      "Iteration 80, loss = 0.01295813\n",
      "Iteration 81, loss = 0.01278462\n",
      "Iteration 82, loss = 0.01251555\n",
      "Iteration 83, loss = 0.01233346\n",
      "Iteration 84, loss = 0.01207284\n",
      "Iteration 85, loss = 0.01189503\n",
      "Iteration 86, loss = 0.01165669\n",
      "Iteration 87, loss = 0.01154606\n",
      "Iteration 88, loss = 0.01133012\n",
      "Iteration 89, loss = 0.01117048\n",
      "Iteration 90, loss = 0.01092451\n",
      "Iteration 91, loss = 0.01082759\n",
      "Iteration 92, loss = 0.01063249\n",
      "Iteration 93, loss = 0.01046600\n",
      "Iteration 94, loss = 0.01028174\n",
      "Iteration 95, loss = 0.01020138\n",
      "Iteration 96, loss = 0.01005464\n",
      "Iteration 97, loss = 0.00989377\n",
      "Iteration 98, loss = 0.00972934\n",
      "Iteration 99, loss = 0.00957469\n",
      "Iteration 100, loss = 0.00943587\n",
      "Iteration 101, loss = 0.00930317\n",
      "Iteration 102, loss = 0.00917808\n",
      "Iteration 103, loss = 0.00905916\n",
      "Iteration 104, loss = 0.00895684\n",
      "Iteration 105, loss = 0.00880791\n",
      "Iteration 106, loss = 0.00872206\n",
      "Iteration 107, loss = 0.00858085\n",
      "Iteration 108, loss = 0.00846417\n",
      "Iteration 109, loss = 0.00842583\n",
      "Iteration 110, loss = 0.00828536\n",
      "Iteration 111, loss = 0.00821551\n",
      "Iteration 112, loss = 0.00810419\n",
      "Iteration 113, loss = 0.00801253\n",
      "Iteration 114, loss = 0.00790316\n",
      "Iteration 115, loss = 0.00780782\n",
      "Iteration 116, loss = 0.00772196\n",
      "Iteration 117, loss = 0.00765717\n",
      "Iteration 118, loss = 0.00755397\n",
      "Iteration 119, loss = 0.00745633\n",
      "Iteration 120, loss = 0.00738307\n",
      "Iteration 121, loss = 0.00732143\n",
      "Iteration 122, loss = 0.00723407\n",
      "Iteration 123, loss = 0.00716397\n",
      "Iteration 124, loss = 0.00709892\n",
      "Iteration 125, loss = 0.00702658\n",
      "Iteration 126, loss = 0.00695306\n",
      "Iteration 127, loss = 0.00687045\n",
      "Iteration 128, loss = 0.00680712\n",
      "Iteration 129, loss = 0.00673797\n",
      "Training loss did not improve more than tol=0.000100 for 10 consecutive epochs. Stopping.\n"
     ]
    },
    {
     "data": {
      "text/plain": [
       "MLPClassifier(activation='logistic', hidden_layer_sizes=50,\n",
       "              learning_rate_init=0.1, max_iter=150, random_state=42,\n",
       "              solver='sgd', verbose=10)"
      ]
     },
     "execution_count": 61,
     "metadata": {},
     "output_type": "execute_result"
    }
   ],
   "source": [
    "mlp2 = MLPClassifier(hidden_layer_sizes =(50), max_iter = 150, solver='sgd', verbose = 10, tol = 1e-4, random_state=42,\n",
    "                    learning_rate_init=0.1, activation='logistic')\n",
    "mlp2.fit(x_train1,y_train)"
   ]
  },
  {
   "cell_type": "code",
   "execution_count": 62,
   "metadata": {},
   "outputs": [],
   "source": [
    "y_pred_test1 = mlp2.predict(x_test1)"
   ]
  },
  {
   "cell_type": "markdown",
   "metadata": {},
   "source": [
    "**Avaliação dos resultados**"
   ]
  },
  {
   "cell_type": "code",
   "execution_count": 63,
   "metadata": {},
   "outputs": [
    {
     "name": "stdout",
     "output_type": "stream",
     "text": [
      "[[ 966    0    3    1    1    2    2    1    3    1]\n",
      " [   0 1121    2    1    0    1    4    1    5    0]\n",
      " [   5    2 1002    2    6    1    4    5    5    0]\n",
      " [   0    0    4  986    0    4    0    6    7    3]\n",
      " [   1    1    6    1  954    0    2    2    3   12]\n",
      " [   3    0    0   18    2  855    3    3    7    1]\n",
      " [   5    2    3    2    3    5  933    1    4    0]\n",
      " [   2    3    8    6    0    1    0 1000    1    7]\n",
      " [   5    1    6    4    1    4    2    5  944    2]\n",
      " [   1    4    0    8    8    3    1    6    2  976]]\n",
      "\n",
      "--------------------------------------------\n",
      "\n",
      "              precision    recall  f1-score   support\n",
      "\n",
      "           0       0.98      0.99      0.98       980\n",
      "           1       0.99      0.99      0.99      1135\n",
      "           2       0.97      0.97      0.97      1032\n",
      "           3       0.96      0.98      0.97      1010\n",
      "           4       0.98      0.97      0.97       982\n",
      "           5       0.98      0.96      0.97       892\n",
      "           6       0.98      0.97      0.98       958\n",
      "           7       0.97      0.97      0.97      1028\n",
      "           8       0.96      0.97      0.97       974\n",
      "           9       0.97      0.97      0.97      1009\n",
      "\n",
      "    accuracy                           0.97     10000\n",
      "   macro avg       0.97      0.97      0.97     10000\n",
      "weighted avg       0.97      0.97      0.97     10000\n",
      "\n"
     ]
    }
   ],
   "source": [
    "print(confusion_matrix(y_test,y_pred_test1))\n",
    "print('\\n--------------------------------------------\\n')\n",
    "print(classification_report(y_test,y_pred_test1))"
   ]
  },
  {
   "cell_type": "code",
   "execution_count": 64,
   "metadata": {},
   "outputs": [
    {
     "name": "stdout",
     "output_type": "stream",
     "text": [
      "Acc. treinamento 0.99985\n",
      "Acc. teste 0.9737\n"
     ]
    }
   ],
   "source": [
    "print(\"Acc. treinamento\", mlp2.score(x_train1, y_train))\n",
    "print('Acc. teste', mlp2.score(x_test1,y_test))"
   ]
  },
  {
   "cell_type": "code",
   "execution_count": 65,
   "metadata": {},
   "outputs": [],
   "source": [
    "from PIL import Image"
   ]
  },
  {
   "cell_type": "code",
   "execution_count": 67,
   "metadata": {},
   "outputs": [
    {
     "data": {
      "text/plain": [
       "(28, 28)"
      ]
     },
     "execution_count": 67,
     "metadata": {},
     "output_type": "execute_result"
    }
   ],
   "source": [
    "numero = np.array(Image.open('numero.bmp'))\n",
    "numero.shape"
   ]
  },
  {
   "cell_type": "code",
   "execution_count": 68,
   "metadata": {},
   "outputs": [],
   "source": [
    "#Converte a matrix para 1D-array\n",
    "numero = numero.ravel()"
   ]
  },
  {
   "cell_type": "code",
   "execution_count": 69,
   "metadata": {},
   "outputs": [
    {
     "data": {
      "text/plain": [
       "(784,)"
      ]
     },
     "execution_count": 69,
     "metadata": {},
     "output_type": "execute_result"
    }
   ],
   "source": [
    "numero.shape"
   ]
  },
  {
   "cell_type": "code",
   "execution_count": 70,
   "metadata": {},
   "outputs": [],
   "source": [
    "numero  = np.where(numero == True,0,1)\n",
    "numero = numero.reshape(1,-1)"
   ]
  },
  {
   "cell_type": "code",
   "execution_count": 71,
   "metadata": {},
   "outputs": [
    {
     "data": {
      "text/plain": [
       "(-0.5, 27.5, 27.5, -0.5)"
      ]
     },
     "execution_count": 71,
     "metadata": {},
     "output_type": "execute_result"
    },
    {
     "data": {
      "image/png": "[encoded data removed]",
      "text/plain": [
       "<Figure size 432x288 with 1 Axes>"
      ]
     },
     "metadata": {
      "needs_background": "light"
     },
     "output_type": "display_data"
    }
   ],
   "source": [
    "number_matrix = numero.reshape(28,28)\n",
    "plt.imshow(number_matrix)\n",
    "plt.axis('off');"
   ]
  },
  {
   "cell_type": "code",
   "execution_count": 72,
   "metadata": {},
   "outputs": [],
   "source": [
    "def identificar_num(modelo,imagem):\n",
    "    numero = np.array(Image.open(imagem))\n",
    "    numero = np.where(numero==True,0,1)\n",
    "    numero = numero.reshape(1,-1)\n",
    "    number_matrix = numero.reshape(28,28)\n",
    "    plt.imshow(number_matrix)\n",
    "    plt.axis('off');\n",
    "    print(\"Numero previsto\",modelo.predict(numero))\n",
    "    print(\"Numero real:\")"
   ]
  },
  {
   "cell_type": "code",
   "execution_count": 73,
   "metadata": {},
   "outputs": [
    {
     "name": "stdout",
     "output_type": "stream",
     "text": [
      "Numero previsto [3]\n",
      "Numero real:\n"
     ]
    },
    {
     "data": {
      "image/png": "[encoded data removed]",
      "text/plain": [
       "<Figure size 432x288 with 1 Axes>"
      ]
     },
     "metadata": {
      "needs_background": "light"
     },
     "output_type": "display_data"
    }
   ],
   "source": [
    "identificar_num(mlp2,\"numero.bmp\")"
   ]
  },
  {
   "cell_type": "code",
   "execution_count": 74,
   "metadata": {},
   "outputs": [],
   "source": [
    "import pickle"
   ]
  },
  {
   "cell_type": "code",
   "execution_count": 76,
   "metadata": {},
   "outputs": [],
   "source": [
    "#salvando o modelo \n",
    "filename = 'digit_NT.sav'\n",
    "pickle.dump(mlp2,open(filename,'wb'))"
   ]
  },
  {
   "cell_type": "code",
   "execution_count": null,
   "metadata": {},
   "outputs": [],
   "source": [
    "#Quando quiser carregar novamente\n",
    "#filename = 'digit_NT.sav'\n",
    "#modelo = pickle.load(open(filename,'rb'))\n",
    "#previsao = modelo.predict(x_test1)\n"
   ]
  }
 ],
 "metadata": {
  "kernelspec": {
   "display_name": "Python 3",
   "language": "python",
   "name": "python3"
  },
  "language_info": {
   "codemirror_mode": {
    "name": "ipython",
    "version": 3
   },
   "file_extension": ".py",
   "mimetype": "text/x-python",
   "name": "python",
   "nbconvert_exporter": "python",
   "pygments_lexer": "ipython3",
   "version": "3.8.3"
  }
 },
 "nbformat": 4,
 "nbformat_minor": 2
}
