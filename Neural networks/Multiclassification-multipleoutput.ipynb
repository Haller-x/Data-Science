{
 "cells": [
  {
   "cell_type": "markdown",
   "metadata": {
    "papermill": {
     "duration": 0.013481,
     "end_time": "2021-05-14T15:48:48.387874",
     "exception": false,
     "start_time": "2021-05-14T15:48:48.374393",
     "status": "completed"
    },
    "tags": []
   },
   "source": [
    "# Multiclassification with Multi-Output Model\n",
    "[Download data](https://www.kaggle.com/c/plant-pathology-2021-fgvc8)\n",
    "\n",
    "\n",
    "Can you help detect farmers detect apple diseases? This competition builds on last year's by challenging you to handle additional diseases and to provide more detailed information about leaves that have multiple infections.\n",
    "\n",
    "Files\n",
    "train.csv - the training set metadata.\n",
    "\n",
    "image - the image ID.\n",
    "\n",
    "labels - the target classes, a space delimited list of all diseases found in the image. Unhealthy leaves with too many diseases to classify visually will have the complex class, and may also have a subset of the diseases identified.\n",
    "\n",
    "sample_submission.csv - A sample submission file in the correct format.\n",
    "\n",
    "- image\n",
    "\n",
    "- labels\n",
    "\n",
    "train_images - The training set images.\n",
    "\n",
    "test_images - The test set images. This competition has a hidden test set: only three images are provided here as samples while the remaining 5,000 images will be available to your notebook once it is submitted."
   ]
  },
  {
   "cell_type": "code",
   "execution_count": 1,
   "metadata": {
    "_cell_guid": "b1076dfc-b9ad-4769-8c92-a6c4dae69d19",
    "_uuid": "8f2839f25d086af736a60e9eeb907d3b93b6e0e5",
    "execution": {
     "iopub.execute_input": "2021-05-14T15:48:48.416128Z",
     "iopub.status.busy": "2021-05-14T15:48:48.414663Z",
     "iopub.status.idle": "2021-05-14T15:48:53.328250Z",
     "shell.execute_reply": "2021-05-14T15:48:53.327654Z"
    },
    "papermill": {
     "duration": 4.928863,
     "end_time": "2021-05-14T15:48:53.328400",
     "exception": false,
     "start_time": "2021-05-14T15:48:48.399537",
     "status": "completed"
    },
    "tags": []
   },
   "outputs": [],
   "source": [
    "import os\n",
    "import numpy as np \n",
    "import pandas as pd \n",
    "import tensorflow as tf\n",
    "from sklearn.model_selection import train_test_split\n",
    "from keras_preprocessing.image import ImageDataGenerator\n",
    "from keras.utils import to_categorical\n",
    "from tensorflow.keras import Model\n",
    "from keras.applications import Xception\n",
    "from tensorflow.keras.callbacks import EarlyStopping\n",
    "from tensorflow.keras.layers import Input,Dense, Activation, Flatten, Dropout, BatchNormalization, MaxPool2D, GlobalMaxPool2D, Conv2D, MaxPooling2D, GlobalAveragePooling2D\n"
   ]
  },
  {
   "cell_type": "code",
   "execution_count": 2,
   "metadata": {
    "execution": {
     "iopub.execute_input": "2021-05-14T15:48:53.358051Z",
     "iopub.status.busy": "2021-05-14T15:48:53.357528Z",
     "iopub.status.idle": "2021-05-14T15:48:53.390282Z",
     "shell.execute_reply": "2021-05-14T15:48:53.389808Z"
    },
    "papermill": {
     "duration": 0.049882,
     "end_time": "2021-05-14T15:48:53.390428",
     "exception": false,
     "start_time": "2021-05-14T15:48:53.340546",
     "status": "completed"
    },
    "tags": []
   },
   "outputs": [],
   "source": [
    "df = pd.read_csv('../input/plant-pathology-2021-fgvc8/train.csv')"
   ]
  },
  {
   "cell_type": "code",
   "execution_count": 3,
   "metadata": {
    "execution": {
     "iopub.execute_input": "2021-05-14T15:48:53.430254Z",
     "iopub.status.busy": "2021-05-14T15:48:53.429438Z",
     "iopub.status.idle": "2021-05-14T15:48:53.436100Z",
     "shell.execute_reply": "2021-05-14T15:48:53.436551Z"
    },
    "papermill": {
     "duration": 0.032923,
     "end_time": "2021-05-14T15:48:53.436677",
     "exception": false,
     "start_time": "2021-05-14T15:48:53.403754",
     "status": "completed"
    },
    "tags": []
   },
   "outputs": [
    {
     "data": {
      "text/html": [
       "<div>\n",
       "<style scoped>\n",
       "    .dataframe tbody tr th:only-of-type {\n",
       "        vertical-align: middle;\n",
       "    }\n",
       "\n",
       "    .dataframe tbody tr th {\n",
       "        vertical-align: top;\n",
       "    }\n",
       "\n",
       "    .dataframe thead th {\n",
       "        text-align: right;\n",
       "    }\n",
       "</style>\n",
       "<table border=\"1\" class=\"dataframe\">\n",
       "  <thead>\n",
       "    <tr style=\"text-align: right;\">\n",
       "      <th></th>\n",
       "      <th>image</th>\n",
       "      <th>labels</th>\n",
       "    </tr>\n",
       "  </thead>\n",
       "  <tbody>\n",
       "    <tr>\n",
       "      <th>0</th>\n",
       "      <td>800113bb65efe69e.jpg</td>\n",
       "      <td>healthy</td>\n",
       "    </tr>\n",
       "    <tr>\n",
       "      <th>1</th>\n",
       "      <td>8002cb321f8bfcdf.jpg</td>\n",
       "      <td>scab frog_eye_leaf_spot complex</td>\n",
       "    </tr>\n",
       "  </tbody>\n",
       "</table>\n",
       "</div>"
      ],
      "text/plain": [
       "                  image                           labels\n",
       "0  800113bb65efe69e.jpg                          healthy\n",
       "1  8002cb321f8bfcdf.jpg  scab frog_eye_leaf_spot complex"
      ]
     },
     "execution_count": 3,
     "metadata": {},
     "output_type": "execute_result"
    }
   ],
   "source": [
    "df.head(2)"
   ]
  },
  {
   "cell_type": "code",
   "execution_count": 4,
   "metadata": {
    "execution": {
     "iopub.execute_input": "2021-05-14T15:48:53.472855Z",
     "iopub.status.busy": "2021-05-14T15:48:53.472119Z",
     "iopub.status.idle": "2021-05-14T15:48:53.475246Z",
     "shell.execute_reply": "2021-05-14T15:48:53.475702Z"
    },
    "papermill": {
     "duration": 0.026541,
     "end_time": "2021-05-14T15:48:53.475828",
     "exception": false,
     "start_time": "2021-05-14T15:48:53.449287",
     "status": "completed"
    },
    "tags": []
   },
   "outputs": [
    {
     "data": {
      "text/plain": [
       "scab                               4826\n",
       "healthy                            4624\n",
       "frog_eye_leaf_spot                 3181\n",
       "rust                               1860\n",
       "complex                            1602\n",
       "powdery_mildew                     1184\n",
       "scab frog_eye_leaf_spot             686\n",
       "scab frog_eye_leaf_spot complex     200\n",
       "frog_eye_leaf_spot complex          165\n",
       "rust frog_eye_leaf_spot             120\n",
       "rust complex                         97\n",
       "powdery_mildew complex               87\n",
       "Name: labels, dtype: int64"
      ]
     },
     "execution_count": 4,
     "metadata": {},
     "output_type": "execute_result"
    }
   ],
   "source": [
    "df.labels.value_counts()"
   ]
  },
  {
   "cell_type": "code",
   "execution_count": 5,
   "metadata": {
    "execution": {
     "iopub.execute_input": "2021-05-14T15:48:53.668779Z",
     "iopub.status.busy": "2021-05-14T15:48:53.667965Z",
     "iopub.status.idle": "2021-05-14T15:48:53.671457Z",
     "shell.execute_reply": "2021-05-14T15:48:53.671862Z"
    },
    "papermill": {
     "duration": 0.183274,
     "end_time": "2021-05-14T15:48:53.672003",
     "exception": false,
     "start_time": "2021-05-14T15:48:53.488729",
     "status": "completed"
    },
    "tags": []
   },
   "outputs": [
    {
     "data": {
      "text/html": [
       "<div>\n",
       "<style scoped>\n",
       "    .dataframe tbody tr th:only-of-type {\n",
       "        vertical-align: middle;\n",
       "    }\n",
       "\n",
       "    .dataframe tbody tr th {\n",
       "        vertical-align: top;\n",
       "    }\n",
       "\n",
       "    .dataframe thead th {\n",
       "        text-align: right;\n",
       "    }\n",
       "</style>\n",
       "<table border=\"1\" class=\"dataframe\">\n",
       "  <thead>\n",
       "    <tr style=\"text-align: right;\">\n",
       "      <th></th>\n",
       "      <th>image</th>\n",
       "      <th>labels</th>\n",
       "    </tr>\n",
       "  </thead>\n",
       "  <tbody>\n",
       "    <tr>\n",
       "      <th>0</th>\n",
       "      <td>800113bb65efe69e.jpg</td>\n",
       "      <td>[healthy]</td>\n",
       "    </tr>\n",
       "    <tr>\n",
       "      <th>1</th>\n",
       "      <td>8002cb321f8bfcdf.jpg</td>\n",
       "      <td>[scab, frog_eye_leaf_spot, complex]</td>\n",
       "    </tr>\n",
       "    <tr>\n",
       "      <th>2</th>\n",
       "      <td>80070f7fb5e2ccaa.jpg</td>\n",
       "      <td>[scab]</td>\n",
       "    </tr>\n",
       "    <tr>\n",
       "      <th>3</th>\n",
       "      <td>80077517781fb94f.jpg</td>\n",
       "      <td>[scab]</td>\n",
       "    </tr>\n",
       "    <tr>\n",
       "      <th>4</th>\n",
       "      <td>800cbf0ff87721f8.jpg</td>\n",
       "      <td>[complex]</td>\n",
       "    </tr>\n",
       "    <tr>\n",
       "      <th>...</th>\n",
       "      <td>...</td>\n",
       "      <td>...</td>\n",
       "    </tr>\n",
       "    <tr>\n",
       "      <th>18627</th>\n",
       "      <td>fffb900a92289a33.jpg</td>\n",
       "      <td>[healthy]</td>\n",
       "    </tr>\n",
       "    <tr>\n",
       "      <th>18628</th>\n",
       "      <td>fffc488fa4c0e80c.jpg</td>\n",
       "      <td>[scab]</td>\n",
       "    </tr>\n",
       "    <tr>\n",
       "      <th>18629</th>\n",
       "      <td>fffc94e092a59086.jpg</td>\n",
       "      <td>[rust]</td>\n",
       "    </tr>\n",
       "    <tr>\n",
       "      <th>18630</th>\n",
       "      <td>fffe105cf6808292.jpg</td>\n",
       "      <td>[scab, frog_eye_leaf_spot]</td>\n",
       "    </tr>\n",
       "    <tr>\n",
       "      <th>18631</th>\n",
       "      <td>fffe472a0001bd25.jpg</td>\n",
       "      <td>[healthy]</td>\n",
       "    </tr>\n",
       "  </tbody>\n",
       "</table>\n",
       "<p>18632 rows × 2 columns</p>\n",
       "</div>"
      ],
      "text/plain": [
       "                      image                               labels\n",
       "0      800113bb65efe69e.jpg                            [healthy]\n",
       "1      8002cb321f8bfcdf.jpg  [scab, frog_eye_leaf_spot, complex]\n",
       "2      80070f7fb5e2ccaa.jpg                               [scab]\n",
       "3      80077517781fb94f.jpg                               [scab]\n",
       "4      800cbf0ff87721f8.jpg                            [complex]\n",
       "...                     ...                                  ...\n",
       "18627  fffb900a92289a33.jpg                            [healthy]\n",
       "18628  fffc488fa4c0e80c.jpg                               [scab]\n",
       "18629  fffc94e092a59086.jpg                               [rust]\n",
       "18630  fffe105cf6808292.jpg           [scab, frog_eye_leaf_spot]\n",
       "18631  fffe472a0001bd25.jpg                            [healthy]\n",
       "\n",
       "[18632 rows x 2 columns]"
      ]
     },
     "execution_count": 5,
     "metadata": {},
     "output_type": "execute_result"
    }
   ],
   "source": [
    "df['labels'] = df['labels'].apply(lambda string: string.split(' '))\n",
    "df"
   ]
  },
  {
   "cell_type": "code",
   "execution_count": 6,
   "metadata": {
    "execution": {
     "iopub.execute_input": "2021-05-14T15:48:53.705328Z",
     "iopub.status.busy": "2021-05-14T15:48:53.704620Z",
     "iopub.status.idle": "2021-05-14T15:48:53.711760Z",
     "shell.execute_reply": "2021-05-14T15:48:53.711313Z"
    },
    "papermill": {
     "duration": 0.026516,
     "end_time": "2021-05-14T15:48:53.711860",
     "exception": false,
     "start_time": "2021-05-14T15:48:53.685344",
     "status": "completed"
    },
    "tags": []
   },
   "outputs": [],
   "source": [
    "X_train,X_valid, train, valid = train_test_split(df['image'],df.drop('image',axis=1),random_state=42,test_size=0.2)\n",
    "train['image'] = X_train.copy()\n",
    "valid['image'] = X_valid.copy()"
   ]
  },
  {
   "cell_type": "code",
   "execution_count": 7,
   "metadata": {
    "execution": {
     "iopub.execute_input": "2021-05-14T15:48:53.741807Z",
     "iopub.status.busy": "2021-05-14T15:48:53.741138Z",
     "iopub.status.idle": "2021-05-14T15:48:53.743429Z",
     "shell.execute_reply": "2021-05-14T15:48:53.743832Z"
    },
    "papermill": {
     "duration": 0.018934,
     "end_time": "2021-05-14T15:48:53.743954",
     "exception": false,
     "start_time": "2021-05-14T15:48:53.725020",
     "status": "completed"
    },
    "tags": []
   },
   "outputs": [],
   "source": [
    "num_class = 6"
   ]
  },
  {
   "cell_type": "code",
   "execution_count": 8,
   "metadata": {
    "execution": {
     "iopub.execute_input": "2021-05-14T15:48:53.774328Z",
     "iopub.status.busy": "2021-05-14T15:48:53.773658Z",
     "iopub.status.idle": "2021-05-14T15:48:53.775928Z",
     "shell.execute_reply": "2021-05-14T15:48:53.776284Z"
    },
    "papermill": {
     "duration": 0.01918,
     "end_time": "2021-05-14T15:48:53.776421",
     "exception": false,
     "start_time": "2021-05-14T15:48:53.757241",
     "status": "completed"
    },
    "tags": []
   },
   "outputs": [],
   "source": [
    "train.reset_index(drop=True,inplace=True)\n",
    "valid.reset_index(drop=True,inplace=True)"
   ]
  },
  {
   "cell_type": "code",
   "execution_count": 9,
   "metadata": {
    "execution": {
     "iopub.execute_input": "2021-05-14T15:48:53.841154Z",
     "iopub.status.busy": "2021-05-14T15:48:53.835976Z",
     "iopub.status.idle": "2021-05-14T15:49:02.117979Z",
     "shell.execute_reply": "2021-05-14T15:49:02.118400Z"
    },
    "papermill": {
     "duration": 8.328697,
     "end_time": "2021-05-14T15:49:02.118628",
     "exception": false,
     "start_time": "2021-05-14T15:48:53.789931",
     "status": "completed"
    },
    "tags": []
   },
   "outputs": [
    {
     "name": "stdout",
     "output_type": "stream",
     "text": [
      "Found 14905 validated image filenames belonging to 6 classes.\n"
     ]
    }
   ],
   "source": [
    "datagen = tf.keras.preprocessing.image.ImageDataGenerator(\n",
    "                            preprocessing_function=tf.keras.applications.xception.preprocess_input,\n",
    "                            rotation_range=45,\n",
    "                            zoom_range=[-0.1,0.1],\n",
    "                            shear_range=0.05,\n",
    "                            horizontal_flip=True,\n",
    "                            vertical_flip=True\n",
    "                            )\n",
    "\n",
    "train_data = datagen.flow_from_dataframe(\n",
    "    train,\n",
    "    directory= '../input/plant-pathology-2021-fgvc8/train_images',\n",
    "    x_col=\"image\",\n",
    "    y_col= 'labels',\n",
    "    color_mode=\"rgb\",\n",
    "    target_size = (150,150),\n",
    "    class_mode=\"categorical\",\n",
    "    classes=['complex', 'frog_eye_leaf_spot', 'healthy', 'powdery_mildew', 'rust', 'scab'],\n",
    "    batch_size=16,\n",
    "    shuffle=True,\n",
    "    seed=40,\n",
    "    )"
   ]
  },
  {
   "cell_type": "code",
   "execution_count": 10,
   "metadata": {
    "execution": {
     "iopub.execute_input": "2021-05-14T15:49:02.167331Z",
     "iopub.status.busy": "2021-05-14T15:49:02.166833Z",
     "iopub.status.idle": "2021-05-14T15:49:04.209778Z",
     "shell.execute_reply": "2021-05-14T15:49:04.209291Z"
    },
    "papermill": {
     "duration": 2.072422,
     "end_time": "2021-05-14T15:49:04.209892",
     "exception": false,
     "start_time": "2021-05-14T15:49:02.137470",
     "status": "completed"
    },
    "tags": []
   },
   "outputs": [
    {
     "name": "stdout",
     "output_type": "stream",
     "text": [
      "Found 3727 validated image filenames belonging to 6 classes.\n"
     ]
    }
   ],
   "source": [
    "datagen_valid = tf.keras.preprocessing.image.ImageDataGenerator(\n",
    "                                                        preprocessing_function=tf.keras.applications.xception.preprocess_input,\n",
    "                                                        data_format=None,\n",
    "                                                    )\n",
    "\n",
    "valid_data = datagen_valid.flow_from_dataframe(\n",
    "    valid,\n",
    "    directory= '../input/plant-pathology-2021-fgvc8/train_images',\n",
    "    x_col=\"image\",\n",
    "    y_col= 'labels',\n",
    "    color_mode=\"rgb\",\n",
    "    target_size = (150,150),\n",
    "    class_mode=\"categorical\",\n",
    "    classes=['complex', 'frog_eye_leaf_spot', 'healthy', 'powdery_mildew', 'rust', 'scab'],\n",
    "    batch_size=16,\n",
    "    shuffle=False,\n",
    "    seed=40,\n",
    ")"
   ]
  },
  {
   "cell_type": "code",
   "execution_count": null,
   "metadata": {},
   "outputs": [],
   "source": [
    "test = pd.read_csv('../input/plant-pathology-2021-fgvc8/sample_submission.csv')\n",
    "test2 = test.copy()"
   ]
  },
  {
   "cell_type": "code",
   "execution_count": 12,
   "metadata": {
    "execution": {
     "iopub.execute_input": "2021-05-14T15:49:04.282941Z",
     "iopub.status.busy": "2021-05-14T15:49:04.282392Z",
     "iopub.status.idle": "2021-05-14T15:49:04.289178Z",
     "shell.execute_reply": "2021-05-14T15:49:04.288792Z"
    },
    "papermill": {
     "duration": 0.026366,
     "end_time": "2021-05-14T15:49:04.289278",
     "exception": false,
     "start_time": "2021-05-14T15:49:04.262912",
     "status": "completed"
    },
    "tags": []
   },
   "outputs": [
    {
     "name": "stdout",
     "output_type": "stream",
     "text": [
      "Found 3 validated image filenames.\n"
     ]
    }
   ],
   "source": [
    "\n",
    "datagen_test = tf.keras.preprocessing.image.ImageDataGenerator(\n",
    "                                                        preprocessing_function=tf.keras.applications.xception.preprocess_input,\n",
    "                                                        data_format=None,\n",
    "                                                    )\n",
    "\n",
    "test_data = datagen_test.flow_from_dataframe(\n",
    "    test2,\n",
    "    directory= '../input/plant-pathology-2021-fgvc8/test_images',\n",
    "    x_col=\"image\",\n",
    "    color_mode=\"rgb\",\n",
    "    target_size = (150,150),\n",
    "    class_mode=None,\n",
    "    batch_size=1,\n",
    "    shuffle=False,\n",
    ")"
   ]
  },
  {
   "cell_type": "code",
   "execution_count": 13,
   "metadata": {
    "execution": {
     "iopub.execute_input": "2021-05-14T15:49:04.355163Z",
     "iopub.status.busy": "2021-05-14T15:49:04.354580Z",
     "iopub.status.idle": "2021-05-14T15:49:09.855515Z",
     "shell.execute_reply": "2021-05-14T15:49:09.855045Z"
    },
    "papermill": {
     "duration": 5.522395,
     "end_time": "2021-05-14T15:49:09.855646",
     "exception": false,
     "start_time": "2021-05-14T15:49:04.333251",
     "status": "completed"
    },
    "tags": []
   },
   "outputs": [],
   "source": [
    "# Building our model!\n",
    "weight_path='../input/tf-keras-pretrained-model-weights/No Top/xception_weights_tf_dim_ordering_tf_kernels_notop.h5'\n",
    "base_model2=Xception(weights=weight_path,include_top=False, input_shape=(150,150,3))\n",
    "x2=base_model2.output\n",
    "x2=GlobalAveragePooling2D()(x2)\n",
    "x2=Dense(128,activation='relu')(x2)\n",
    "x2=Dropout(0.2)(x2)\n",
    "x2=Dense(64,activation='relu')(x2)\n",
    "\n",
    " \n",
    "output1 = Dense(1, activation = 'sigmoid')(x2)\n",
    "output2 = Dense(1, activation = 'sigmoid')(x2)\n",
    "output3 = Dense(1, activation = 'sigmoid')(x2)\n",
    "output4 = Dense(1, activation = 'sigmoid')(x2)\n",
    "output5 = Dense(1, activation = 'sigmoid')(x2)\n",
    "output6 = Dense(1, activation = 'sigmoid')(x2)\n",
    "\n",
    "model_2 = Model(inputs=base_model2.input,outputs=[output1,output2,output3,output4,output5,output6])\n",
    "model_2.compile(optimizer='adam',\n",
    "        loss = [\"binary_crossentropy\",\"binary_crossentropy\",\"binary_crossentropy\",\n",
    "                \"binary_crossentropy\",\"binary_crossentropy\",\"binary_crossentropy\"],\n",
    "        metrics = [\"accuracy\"])\n",
    "\n",
    "for layer in base_model2.layers:\n",
    "    layer.trainable=False"
   ]
  },
  {
   "cell_type": "code",
   "execution_count": 14,
   "metadata": {
    "execution": {
     "iopub.execute_input": "2021-05-14T15:49:09.890238Z",
     "iopub.status.busy": "2021-05-14T15:49:09.889025Z",
     "iopub.status.idle": "2021-05-14T15:49:09.891710Z",
     "shell.execute_reply": "2021-05-14T15:49:09.891298Z"
    },
    "papermill": {
     "duration": 0.020733,
     "end_time": "2021-05-14T15:49:09.891815",
     "exception": false,
     "start_time": "2021-05-14T15:49:09.871082",
     "status": "completed"
    },
    "tags": []
   },
   "outputs": [],
   "source": [
    "#model_2.summary()"
   ]
  },
  {
   "cell_type": "code",
   "execution_count": 15,
   "metadata": {
    "execution": {
     "iopub.execute_input": "2021-05-14T15:49:09.924935Z",
     "iopub.status.busy": "2021-05-14T15:49:09.924428Z",
     "iopub.status.idle": "2021-05-14T15:49:09.928213Z",
     "shell.execute_reply": "2021-05-14T15:49:09.927791Z"
    },
    "papermill": {
     "duration": 0.021676,
     "end_time": "2021-05-14T15:49:09.928317",
     "exception": false,
     "start_time": "2021-05-14T15:49:09.906641",
     "status": "completed"
    },
    "tags": []
   },
   "outputs": [],
   "source": [
    "#Our model Plot Model\n",
    "dot_img_file = 'model_2.png'\n",
    "#tf.keras.utils.plot_model(model_2, to_file=dot_img_file, show_shapes=True)"
   ]
  },
  {
   "cell_type": "code",
   "execution_count": 16,
   "metadata": {
    "execution": {
     "iopub.execute_input": "2021-05-14T15:49:09.972348Z",
     "iopub.status.busy": "2021-05-14T15:49:09.971869Z",
     "iopub.status.idle": "2021-05-14T16:38:12.635025Z",
     "shell.execute_reply": "2021-05-14T16:38:12.635724Z"
    },
    "papermill": {
     "duration": 2942.692737,
     "end_time": "2021-05-14T16:38:12.635960",
     "exception": false,
     "start_time": "2021-05-14T15:49:09.943223",
     "status": "completed"
    },
    "tags": []
   },
   "outputs": [
    {
     "name": "stdout",
     "output_type": "stream",
     "text": [
      "931/931 [==============================] - 2940s 3s/step - loss: 2.8913 - dense_2_loss: 0.4802 - dense_3_loss: 0.4819 - dense_4_loss: 0.4833 - dense_5_loss: 0.4830 - dense_6_loss: 0.4810 - dense_7_loss: 0.4819 - dense_2_accuracy: 0.8199 - dense_3_accuracy: 0.8168 - dense_4_accuracy: 0.8140 - dense_5_accuracy: 0.8150 - dense_6_accuracy: 0.8190 - dense_7_accuracy: 0.8189 - val_loss: 2.8358 - val_dense_2_loss: 0.4730 - val_dense_3_loss: 0.4728 - val_dense_4_loss: 0.4725 - val_dense_5_loss: 0.4723 - val_dense_6_loss: 0.4725 - val_dense_7_loss: 0.4727 - val_dense_2_accuracy: 0.8201 - val_dense_3_accuracy: 0.8201 - val_dense_4_accuracy: 0.8201 - val_dense_5_accuracy: 0.8201 - val_dense_6_accuracy: 0.8201 - val_dense_7_accuracy: 0.8201\n"
     ]
    }
   ],
   "source": [
    "### Reseting our generators\n",
    "train_data.reset()\n",
    "valid_data.reset()\n",
    "\n",
    "monitor2 = EarlyStopping(monitor='val_accuracy', min_delta=0.01, patience=4, verbose=1, mode='auto',\n",
    "        restore_best_weights=True)\n",
    "history = model_2.fit(\n",
    "    train_data,\n",
    "    steps_per_epoch=train_data.samples//train_data.batch_size,\n",
    "    epochs=1,\n",
    "    validation_data=valid_data, validation_steps=valid_data.samples//valid_data.batch_size,\n",
    "    verbose=1,callbacks=[monitor2]\n",
    ")"
   ]
  },
  {
   "cell_type": "markdown",
   "metadata": {
    "papermill": {
     "duration": 0.26812,
     "end_time": "2021-05-14T16:38:13.164040",
     "exception": false,
     "start_time": "2021-05-14T16:38:12.895920",
     "status": "completed"
    },
    "tags": []
   },
   "source": [
    "\n"
   ]
  },
  {
   "cell_type": "code",
   "execution_count": 17,
   "metadata": {
    "execution": {
     "iopub.execute_input": "2021-05-14T16:38:13.746545Z",
     "iopub.status.busy": "2021-05-14T16:38:13.741534Z",
     "iopub.status.idle": "2021-05-14T16:38:14.531926Z",
     "shell.execute_reply": "2021-05-14T16:38:14.531479Z"
    },
    "papermill": {
     "duration": 1.099391,
     "end_time": "2021-05-14T16:38:14.532049",
     "exception": false,
     "start_time": "2021-05-14T16:38:13.432658",
     "status": "completed"
    },
    "tags": []
   },
   "outputs": [],
   "source": [
    "model_2.save('multiple_output.h5')"
   ]
  },
  {
   "cell_type": "code",
   "execution_count": null,
   "metadata": {},
   "outputs": [],
   "source": [
    "model_2 = tf.keras.models.load_model('multiple_output.h5')"
   ]
  },
  {
   "cell_type": "code",
   "execution_count": null,
   "metadata": {},
   "outputs": [],
   "source": [
    "test_data.reset()\n",
    "predictions = model_2.predict(test_data)\n",
    "predictions = np.array(predictions) \n",
    "predictions = predictions.reshape(predictions.shape[1],predictions.shape[0])"
   ]
  },
  {
   "cell_type": "code",
   "execution_count": null,
   "metadata": {
    "execution": {
     "iopub.execute_input": "2021-05-14T16:38:15.065061Z",
     "iopub.status.busy": "2021-05-14T16:38:15.064505Z",
     "iopub.status.idle": "2021-05-14T16:38:16.661493Z",
     "shell.execute_reply": "2021-05-14T16:38:16.662045Z"
    },
    "papermill": {
     "duration": 1.869455,
     "end_time": "2021-05-14T16:38:16.662191",
     "exception": false,
     "start_time": "2021-05-14T16:38:14.792736",
     "status": "completed"
    },
    "tags": []
   },
   "outputs": [],
   "source": [
    "class_idx=[]\n",
    "for pred in predictions:\n",
    "    pred=list(pred)\n",
    "    temp=[]\n",
    "    for i in pred:\n",
    "        if (i>0.4):#threshold\n",
    "            temp.append(pred.index(i))\n",
    "    if (temp!=[]):\n",
    "        class_idx.append(temp)\n",
    "    else:\n",
    "        temp.append(np.argmax(pred))#maybe change here\n",
    "        class_idx.append(temp)\n",
    "print(class_idx)\n",
    "\n",
    "class_dict = train_data.class_indices\n",
    "def get_key(val):\n",
    "    for key,value in class_dict.items():\n",
    "        if (val==value):\n",
    "            return key\n",
    "print(class_dict)\n",
    "\n",
    "sub_pred=[]\n",
    "for img_ in class_idx:\n",
    "    img_pred=[]\n",
    "    for i in img_:\n",
    "        img_pred.append(get_key(i))\n",
    "    sub_pred.append( ' '.join(img_pred))\n",
    "print(sub_pred)\n",
    "\n",
    "sub2 = test2[['image']]\n",
    "sub2['labels']=sub_pred\n",
    "sub2\n",
    "sub2.to_csv('submission.csv',index=False)"
   ]
  }
 ],
 "metadata": {
  "kernelspec": {
   "display_name": "Python 3",
   "language": "python",
   "name": "python3"
  },
  "language_info": {
   "codemirror_mode": {
    "name": "ipython",
    "version": 3
   },
   "file_extension": ".py",
   "mimetype": "text/x-python",
   "name": "python",
   "nbconvert_exporter": "python",
   "pygments_lexer": "ipython3",
   "version": "3.8.5"
  },
  "papermill": {
   "default_parameters": {},
   "duration": 2978.524453,
   "end_time": "2021-05-14T16:38:19.886127",
   "environment_variables": {},
   "exception": null,
   "input_path": "__notebook__.ipynb",
   "output_path": "__notebook__.ipynb",
   "parameters": {},
   "start_time": "2021-05-14T15:48:41.361674",
   "version": "2.3.3"
  }
 },
 "nbformat": 4,
 "nbformat_minor": 5
}
