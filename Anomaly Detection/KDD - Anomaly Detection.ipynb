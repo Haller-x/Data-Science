{
 "cells": [
  {
   "cell_type": "markdown",
   "id": "christian-serbia",
   "metadata": {},
   "source": [
    "# KDD Cup 1999 Data\n",
    "## Abstract\n",
    "This is the data set used for The Third International Knowledge Discovery and Data Mining Tools Competition, which was held in conjunction with KDD-99 The Fifth International Conference on Knowledge Discovery and Data Mining. The competition task was to build a network intrusion detector, a predictive model capable of distinguishing between ``bad`` connections, called intrusions or attacks, and ``good`` normal connections. This database contains a standard set of data to be audited, which includes a wide variety of intrusions simulated in a military network environment."
   ]
  },
  {
   "cell_type": "markdown",
   "id": "historic-funeral",
   "metadata": {},
   "source": [
    "And....What do we do?\n",
    "This is an different approach, which can be not so usual...but it works!\n",
    "1. Get the data\n",
    "2. Encode numeric features with zscore.\n",
    "3. Encode objects features with get dummies (One Hot Encoder).\n",
    "4. Split: Train and test (For good connections - no attack).\n",
    "5. Transform the DataFrame into a vector\n",
    "6. Create an autoencoder with the train vector, with multiple output neurons and loss mean_squared_error.\n",
    "7. Use the RMSE to evaluate: `Attack will have higher RMSE than No-Attack` "
   ]
  },
  {
   "cell_type": "code",
   "execution_count": 1,
   "id": "banner-superintendent",
   "metadata": {
    "colab": {
     "base_uri": "https://localhost:8080/"
    },
    "id": "banner-superintendent",
    "outputId": "086dc16d-c9f1-4028-9563-0f8da3a92bb5"
   },
   "outputs": [
    {
     "name": "stdout",
     "output_type": "stream",
     "text": [
      "Downloading data from http://kdd.ics.uci.edu/databases/kddcup99/kddcup.data_10_percent.gz\n",
      "2146304/2144903 [==============================] - 1s 0us/step\n",
      "/root/.keras/datasets/kddcup.data_10_percent.gz\n",
      "Read 494021 rows.\n",
      "Read 494021 rows.\n"
     ]
    }
   ],
   "source": [
    "import pandas as pd\n",
    "from tensorflow.keras.utils import get_file\n",
    "\n",
    "pd.set_option('display.max_columns', 6)\n",
    "pd.set_option('display.max_rows', 5)\n",
    "\n",
    "try:\n",
    "    path = get_file('kddcup.data_10_percent.gz', origin=\\\n",
    "    'http://kdd.ics.uci.edu/databases/kddcup99/kddcup.data_10_percent.gz')\n",
    "except:\n",
    "    print('Error downloading')\n",
    "    raise\n",
    "    \n",
    "print(path) \n",
    "df = pd.read_csv(path, header=None)\n",
    "print(\"Read {} rows.\".format(len(df)))\n",
    "df.dropna(inplace=True,axis=1)\n",
    "print(\"Read {} rows.\".format(len(df)))"
   ]
  },
  {
   "cell_type": "code",
   "execution_count": 2,
   "id": "catholic-september",
   "metadata": {
    "id": "catholic-september"
   },
   "outputs": [],
   "source": [
    "#readind the cols names!\n",
    "header = pd.read_csv('http://kdd.ics.uci.edu/databases/kddcup99/kddcup.names',skiprows=[0],header=None)\n",
    "header.columns = ['name']\n",
    "header['name'] = header['name'].apply(lambda x: x.split(':')[0])\n",
    "header_cols = list(header['name'])\n",
    "header_cols.append('outcome')"
   ]
  },
  {
   "cell_type": "code",
   "execution_count": 3,
   "id": "metric-sense",
   "metadata": {
    "colab": {
     "base_uri": "https://localhost:8080/",
     "height": 233
    },
    "id": "metric-sense",
    "outputId": "27fd41c4-7dca-4446-d0d0-67f0a3c83124"
   },
   "outputs": [
    {
     "data": {
      "text/html": [
       "<div>\n",
       "<style scoped>\n",
       "    .dataframe tbody tr th:only-of-type {\n",
       "        vertical-align: middle;\n",
       "    }\n",
       "\n",
       "    .dataframe tbody tr th {\n",
       "        vertical-align: top;\n",
       "    }\n",
       "\n",
       "    .dataframe thead th {\n",
       "        text-align: right;\n",
       "    }\n",
       "</style>\n",
       "<table border=\"1\" class=\"dataframe\">\n",
       "  <thead>\n",
       "    <tr style=\"text-align: right;\">\n",
       "      <th></th>\n",
       "      <th>duration</th>\n",
       "      <th>protocol_type</th>\n",
       "      <th>...</th>\n",
       "      <th>dst_host_srv_rerror_rate</th>\n",
       "      <th>outcome</th>\n",
       "    </tr>\n",
       "  </thead>\n",
       "  <tbody>\n",
       "    <tr>\n",
       "      <th>0</th>\n",
       "      <td>0</td>\n",
       "      <td>tcp</td>\n",
       "      <td>...</td>\n",
       "      <td>0.0</td>\n",
       "      <td>normal.</td>\n",
       "    </tr>\n",
       "    <tr>\n",
       "      <th>1</th>\n",
       "      <td>0</td>\n",
       "      <td>tcp</td>\n",
       "      <td>...</td>\n",
       "      <td>0.0</td>\n",
       "      <td>normal.</td>\n",
       "    </tr>\n",
       "    <tr>\n",
       "      <th>...</th>\n",
       "      <td>...</td>\n",
       "      <td>...</td>\n",
       "      <td>...</td>\n",
       "      <td>...</td>\n",
       "      <td>...</td>\n",
       "    </tr>\n",
       "    <tr>\n",
       "      <th>494019</th>\n",
       "      <td>0</td>\n",
       "      <td>tcp</td>\n",
       "      <td>...</td>\n",
       "      <td>0.0</td>\n",
       "      <td>normal.</td>\n",
       "    </tr>\n",
       "    <tr>\n",
       "      <th>494020</th>\n",
       "      <td>0</td>\n",
       "      <td>tcp</td>\n",
       "      <td>...</td>\n",
       "      <td>0.0</td>\n",
       "      <td>normal.</td>\n",
       "    </tr>\n",
       "  </tbody>\n",
       "</table>\n",
       "<p>494021 rows × 42 columns</p>\n",
       "</div>"
      ],
      "text/plain": [
       "        duration protocol_type  ... dst_host_srv_rerror_rate  outcome\n",
       "0              0           tcp  ...                      0.0  normal.\n",
       "1              0           tcp  ...                      0.0  normal.\n",
       "...          ...           ...  ...                      ...      ...\n",
       "494019         0           tcp  ...                      0.0  normal.\n",
       "494020         0           tcp  ...                      0.0  normal.\n",
       "\n",
       "[494021 rows x 42 columns]"
      ]
     },
     "execution_count": 3,
     "metadata": {
      "tags": []
     },
     "output_type": "execute_result"
    }
   ],
   "source": [
    "# The CSV file has no column heads, so add them\n",
    "df.columns = header_cols\n",
    "\n",
    "# display 5 rows\n",
    "pd.set_option('display.max_columns', 5)\n",
    "pd.set_option('display.max_rows', 5)\n",
    "df"
   ]
  },
  {
   "cell_type": "code",
   "execution_count": 4,
   "id": "expanded-lighter",
   "metadata": {
    "colab": {
     "base_uri": "https://localhost:8080/"
    },
    "id": "expanded-lighter",
    "outputId": "bde082e7-09e3-4a5c-c253-b305aabf8c11"
   },
   "outputs": [
    {
     "data": {
      "text/plain": [
       "outcome\n",
       "back.               2203\n",
       "buffer_overflow.      30\n",
       "                    ... \n",
       "warezclient.        1020\n",
       "warezmaster.          20\n",
       "Name: outcome, Length: 23, dtype: int64"
      ]
     },
     "execution_count": 4,
     "metadata": {
      "tags": []
     },
     "output_type": "execute_result"
    }
   ],
   "source": [
    "df.groupby('outcome')['outcome'].count()"
   ]
  },
  {
   "cell_type": "code",
   "execution_count": 5,
   "id": "possible-twins",
   "metadata": {
    "id": "possible-twins"
   },
   "outputs": [],
   "source": [
    "# Encode a numeric column as zscores\n",
    "def encode_numeric_zscore(df, name, mean=None, sd=None):\n",
    "    if mean is None:\n",
    "        mean = df[name].mean()\n",
    "\n",
    "    if sd is None:\n",
    "        sd = df[name].std()\n",
    "\n",
    "    df[name] = (df[name] - mean) / sd\n",
    "    \n",
    "# Encode text values to dummy variables(i.e. [1,0,0],[0,1,0],[0,0,1] \n",
    "# for red,green,blue)\n",
    "def encode_text_dummy(df, name):\n",
    "    dummies = pd.get_dummies(df[name])\n",
    "    for x in dummies.columns:\n",
    "        dummy_name = f\"{name}-{x}\"\n",
    "        df[dummy_name] = dummies[x]\n",
    "    df.drop(name, axis=1, inplace=True)"
   ]
  },
  {
   "cell_type": "code",
   "execution_count": 6,
   "id": "religious-hollywood",
   "metadata": {
    "id": "religious-hollywood"
   },
   "outputs": [],
   "source": [
    "numeric_cols = ['duration',\n",
    "'src_bytes',\n",
    "'dst_bytes',\n",
    "'wrong_fragment',\n",
    "'urgent',\n",
    "'hot',\n",
    "'num_failed_logins',\n",
    "'num_compromised',\n",
    "'root_shell',\n",
    "'su_attempted',\n",
    "'num_root',\n",
    "'num_file_creations',\n",
    "'num_shells',\n",
    "'num_access_files',\n",
    "'num_outbound_cmds',\n",
    "'count',\n",
    "'srv_count',\n",
    "'serror_rate',\n",
    "'srv_serror_rate',\n",
    "'rerror_rate',\n",
    "'srv_rerror_rate',\n",
    "'same_srv_rate',\n",
    "'diff_srv_rate',\n",
    "'srv_diff_host_rate',\n",
    "'dst_host_count',\n",
    "'dst_host_srv_count',\n",
    "'dst_host_same_srv_rate',\n",
    "'dst_host_diff_srv_rate',\n",
    "'dst_host_same_src_port_rate',\n",
    "'dst_host_srv_diff_host_rate',\n",
    "'dst_host_serror_rate',\n",
    "'dst_host_srv_serror_rate',\n",
    "'dst_host_rerror_rate',\n",
    "'dst_host_srv_rerror_rate',]\n",
    "\n",
    "text_cols = ['protocol_type',\n",
    "'service',\n",
    "'flag',\n",
    "'land',\n",
    "'logged_in',\n",
    "'is_host_login',\n",
    "'is_guest_login']"
   ]
  },
  {
   "cell_type": "code",
   "execution_count": 7,
   "id": "original-purchase",
   "metadata": {
    "colab": {
     "base_uri": "https://localhost:8080/",
     "height": 233
    },
    "id": "original-purchase",
    "outputId": "ef760da3-b92f-46d9-8c90-6616965a0fd8"
   },
   "outputs": [
    {
     "data": {
      "text/html": [
       "<div>\n",
       "<style scoped>\n",
       "    .dataframe tbody tr th:only-of-type {\n",
       "        vertical-align: middle;\n",
       "    }\n",
       "\n",
       "    .dataframe tbody tr th {\n",
       "        vertical-align: top;\n",
       "    }\n",
       "\n",
       "    .dataframe thead th {\n",
       "        text-align: right;\n",
       "    }\n",
       "</style>\n",
       "<table border=\"1\" class=\"dataframe\">\n",
       "  <thead>\n",
       "    <tr style=\"text-align: right;\">\n",
       "      <th></th>\n",
       "      <th>duration</th>\n",
       "      <th>src_bytes</th>\n",
       "      <th>dst_bytes</th>\n",
       "      <th>...</th>\n",
       "      <th>is_host_login-0</th>\n",
       "      <th>is_guest_login-0</th>\n",
       "      <th>is_guest_login-1</th>\n",
       "    </tr>\n",
       "  </thead>\n",
       "  <tbody>\n",
       "    <tr>\n",
       "      <th>0</th>\n",
       "      <td>-0.067792</td>\n",
       "      <td>-0.002879</td>\n",
       "      <td>0.138664</td>\n",
       "      <td>...</td>\n",
       "      <td>1</td>\n",
       "      <td>1</td>\n",
       "      <td>0</td>\n",
       "    </tr>\n",
       "    <tr>\n",
       "      <th>1</th>\n",
       "      <td>-0.067792</td>\n",
       "      <td>-0.002820</td>\n",
       "      <td>-0.011578</td>\n",
       "      <td>...</td>\n",
       "      <td>1</td>\n",
       "      <td>1</td>\n",
       "      <td>0</td>\n",
       "    </tr>\n",
       "    <tr>\n",
       "      <th>2</th>\n",
       "      <td>-0.067792</td>\n",
       "      <td>-0.002824</td>\n",
       "      <td>0.014179</td>\n",
       "      <td>...</td>\n",
       "      <td>1</td>\n",
       "      <td>1</td>\n",
       "      <td>0</td>\n",
       "    </tr>\n",
       "    <tr>\n",
       "      <th>3</th>\n",
       "      <td>-0.067792</td>\n",
       "      <td>-0.002840</td>\n",
       "      <td>0.014179</td>\n",
       "      <td>...</td>\n",
       "      <td>1</td>\n",
       "      <td>1</td>\n",
       "      <td>0</td>\n",
       "    </tr>\n",
       "    <tr>\n",
       "      <th>4</th>\n",
       "      <td>-0.067792</td>\n",
       "      <td>-0.002842</td>\n",
       "      <td>0.035214</td>\n",
       "      <td>...</td>\n",
       "      <td>1</td>\n",
       "      <td>1</td>\n",
       "      <td>0</td>\n",
       "    </tr>\n",
       "  </tbody>\n",
       "</table>\n",
       "<p>5 rows × 121 columns</p>\n",
       "</div>"
      ],
      "text/plain": [
       "   duration  src_bytes  dst_bytes  ...  is_host_login-0  is_guest_login-0  \\\n",
       "0 -0.067792  -0.002879   0.138664  ...                1                 1   \n",
       "1 -0.067792  -0.002820  -0.011578  ...                1                 1   \n",
       "2 -0.067792  -0.002824   0.014179  ...                1                 1   \n",
       "3 -0.067792  -0.002840   0.014179  ...                1                 1   \n",
       "4 -0.067792  -0.002842   0.035214  ...                1                 1   \n",
       "\n",
       "   is_guest_login-1  \n",
       "0                 0  \n",
       "1                 0  \n",
       "2                 0  \n",
       "3                 0  \n",
       "4                 0  \n",
       "\n",
       "[5 rows x 121 columns]"
      ]
     },
     "execution_count": 7,
     "metadata": {
      "tags": []
     },
     "output_type": "execute_result"
    }
   ],
   "source": [
    "pd.set_option('display.max_columns', 6)\n",
    "pd.set_option('display.max_rows', 5)\n",
    "\n",
    "#encoding text_dummy\n",
    "for text_col in text_cols:\n",
    "    encode_text_dummy(df, text_col)\n",
    "\n",
    "#numeric cols as zscores\n",
    "for numeric_col in numeric_cols:\n",
    "    encode_numeric_zscore(df, numeric_col)\n",
    "    \n",
    "df.dropna(inplace=True,axis=1)\n",
    "df[0:5]"
   ]
  },
  {
   "cell_type": "code",
   "execution_count": 8,
   "id": "bearing-metro",
   "metadata": {
    "colab": {
     "base_uri": "https://localhost:8080/"
    },
    "id": "bearing-metro",
    "outputId": "ea4039c3-3f81-4440-d93c-926db683fbf2"
   },
   "outputs": [
    {
     "name": "stdout",
     "output_type": "stream",
     "text": [
      "Normal count: 97278\n",
      "Attack count: 396743\n"
     ]
    }
   ],
   "source": [
    "normal_mask = df['outcome']=='normal.'\n",
    "attack_mask = df['outcome']!='normal.'\n",
    "\n",
    "df.drop('outcome',axis=1,inplace=True)\n",
    "\n",
    "df_normal = df[normal_mask]\n",
    "df_attack = df[attack_mask]\n",
    "\n",
    "print(f\"Normal count: {len(df_normal)}\")\n",
    "print(f\"Attack count: {len(df_attack)}\")"
   ]
  },
  {
   "cell_type": "code",
   "execution_count": 9,
   "id": "laughing-discovery",
   "metadata": {
    "id": "laughing-discovery"
   },
   "outputs": [],
   "source": [
    "# This is the numeric feature vector, as it goes to the neural net\n",
    "x_normal = df_normal.values\n",
    "x_attack = df_attack.values"
   ]
  },
  {
   "cell_type": "code",
   "execution_count": 10,
   "id": "silent-symposium",
   "metadata": {
    "id": "silent-symposium"
   },
   "outputs": [],
   "source": [
    "from sklearn.model_selection import train_test_split\n",
    "\n",
    "x_normal_train, x_normal_test = train_test_split(\n",
    "    x_normal, test_size=0.25, random_state=42)"
   ]
  },
  {
   "cell_type": "code",
   "execution_count": 11,
   "id": "adaptive-drove",
   "metadata": {
    "colab": {
     "base_uri": "https://localhost:8080/"
    },
    "id": "adaptive-drove",
    "outputId": "3c0be08b-f664-41c6-de57-5c2a8c3c3c93"
   },
   "outputs": [
    {
     "name": "stdout",
     "output_type": "stream",
     "text": [
      "Normal train count: 72958\n",
      "Normal test count: 24320\n"
     ]
    }
   ],
   "source": [
    "print(f\"Normal train count: {len(x_normal_train)}\")\n",
    "print(f\"Normal test count: {len(x_normal_test)}\")"
   ]
  },
  {
   "cell_type": "code",
   "execution_count": 12,
   "id": "wooden-spouse",
   "metadata": {
    "colab": {
     "base_uri": "https://localhost:8080/"
    },
    "id": "wooden-spouse",
    "outputId": "c1807887-3aef-4ce5-82ff-3ab2ec9c5fec"
   },
   "outputs": [
    {
     "name": "stdout",
     "output_type": "stream",
     "text": [
      "Epoch 1/100\n",
      "2280/2280 - 5s - loss: 0.3277\n",
      "Epoch 2/100\n",
      "2280/2280 - 3s - loss: 0.2687\n",
      "Epoch 3/100\n",
      "2280/2280 - 3s - loss: 0.2098\n",
      "Epoch 4/100\n",
      "2280/2280 - 3s - loss: 0.1950\n",
      "Epoch 5/100\n",
      "2280/2280 - 3s - loss: 0.1752\n",
      "Epoch 6/100\n",
      "2280/2280 - 3s - loss: 0.1728\n",
      "Epoch 7/100\n",
      "2280/2280 - 3s - loss: 0.1699\n",
      "Epoch 8/100\n",
      "2280/2280 - 3s - loss: 0.1745\n",
      "Epoch 9/100\n",
      "2280/2280 - 3s - loss: 0.1709\n",
      "Epoch 10/100\n",
      "2280/2280 - 3s - loss: 0.1654\n",
      "Epoch 11/100\n",
      "2280/2280 - 3s - loss: 0.1693\n",
      "Epoch 12/100\n",
      "2280/2280 - 3s - loss: 0.1600\n",
      "Epoch 13/100\n",
      "2280/2280 - 3s - loss: 0.1646\n",
      "Epoch 14/100\n",
      "2280/2280 - 3s - loss: 0.1526\n",
      "Epoch 15/100\n",
      "2280/2280 - 3s - loss: 0.1541\n",
      "Epoch 16/100\n",
      "2280/2280 - 3s - loss: 0.1555\n",
      "Epoch 17/100\n",
      "2280/2280 - 3s - loss: 0.1457\n",
      "Epoch 18/100\n",
      "2280/2280 - 3s - loss: 0.1453\n",
      "Epoch 19/100\n",
      "2280/2280 - 3s - loss: 0.1418\n",
      "Epoch 20/100\n",
      "2280/2280 - 3s - loss: 0.1433\n",
      "Epoch 21/100\n",
      "2280/2280 - 3s - loss: 0.1429\n",
      "Epoch 22/100\n",
      "2280/2280 - 3s - loss: 0.1451\n",
      "Epoch 23/100\n",
      "2280/2280 - 3s - loss: 0.1403\n",
      "Epoch 24/100\n",
      "2280/2280 - 3s - loss: 0.1368\n",
      "Epoch 25/100\n",
      "2280/2280 - 3s - loss: 0.1378\n",
      "Epoch 26/100\n",
      "2280/2280 - 3s - loss: 0.1369\n",
      "Epoch 27/100\n",
      "2280/2280 - 3s - loss: 0.1322\n",
      "Epoch 28/100\n",
      "2280/2280 - 3s - loss: 0.1346\n",
      "Epoch 29/100\n",
      "2280/2280 - 3s - loss: 0.1334\n",
      "Epoch 30/100\n",
      "2280/2280 - 3s - loss: 0.1293\n",
      "Epoch 31/100\n",
      "2280/2280 - 3s - loss: 0.1278\n",
      "Epoch 32/100\n",
      "2280/2280 - 3s - loss: 0.1297\n",
      "Epoch 33/100\n",
      "2280/2280 - 3s - loss: 0.1222\n",
      "Epoch 34/100\n",
      "2280/2280 - 3s - loss: 0.1285\n",
      "Epoch 35/100\n",
      "2280/2280 - 3s - loss: 0.1175\n",
      "Epoch 36/100\n",
      "2280/2280 - 3s - loss: 0.1142\n",
      "Epoch 37/100\n",
      "2280/2280 - 3s - loss: 0.1144\n",
      "Epoch 38/100\n",
      "2280/2280 - 3s - loss: 0.1121\n",
      "Epoch 39/100\n",
      "2280/2280 - 3s - loss: 0.1103\n",
      "Epoch 40/100\n",
      "2280/2280 - 3s - loss: 0.1069\n",
      "Epoch 41/100\n",
      "2280/2280 - 3s - loss: 0.1102\n",
      "Epoch 42/100\n",
      "2280/2280 - 3s - loss: 0.1014\n",
      "Epoch 43/100\n",
      "2280/2280 - 3s - loss: 0.1021\n",
      "Epoch 44/100\n",
      "2280/2280 - 3s - loss: 0.1005\n",
      "Epoch 45/100\n",
      "2280/2280 - 3s - loss: 0.1045\n",
      "Epoch 46/100\n",
      "2280/2280 - 3s - loss: 0.1002\n",
      "Epoch 47/100\n",
      "2280/2280 - 3s - loss: 0.0986\n",
      "Epoch 48/100\n",
      "2280/2280 - 3s - loss: 0.0995\n",
      "Epoch 49/100\n",
      "2280/2280 - 3s - loss: 0.0949\n",
      "Epoch 50/100\n",
      "2280/2280 - 3s - loss: 0.1010\n",
      "Epoch 51/100\n",
      "2280/2280 - 3s - loss: 0.0983\n",
      "Epoch 52/100\n",
      "2280/2280 - 3s - loss: 0.0965\n",
      "Epoch 53/100\n",
      "2280/2280 - 3s - loss: 0.0931\n",
      "Epoch 54/100\n",
      "2280/2280 - 3s - loss: 0.0990\n",
      "Epoch 55/100\n",
      "2280/2280 - 3s - loss: 0.0914\n",
      "Epoch 56/100\n",
      "2280/2280 - 3s - loss: 0.0963\n",
      "Epoch 57/100\n",
      "2280/2280 - 3s - loss: 0.0974\n",
      "Epoch 58/100\n",
      "2280/2280 - 3s - loss: 0.0933\n",
      "Epoch 59/100\n",
      "2280/2280 - 3s - loss: 0.0931\n",
      "Epoch 60/100\n",
      "2280/2280 - 3s - loss: 0.0929\n",
      "Epoch 61/100\n",
      "2280/2280 - 3s - loss: 0.0929\n",
      "Epoch 62/100\n",
      "2280/2280 - 3s - loss: 0.0915\n",
      "Epoch 63/100\n",
      "2280/2280 - 3s - loss: 0.0921\n",
      "Epoch 64/100\n",
      "2280/2280 - 3s - loss: 0.0900\n",
      "Epoch 65/100\n",
      "2280/2280 - 3s - loss: 0.0957\n",
      "Epoch 66/100\n",
      "2280/2280 - 3s - loss: 0.0904\n",
      "Epoch 67/100\n",
      "2280/2280 - 3s - loss: 0.0896\n",
      "Epoch 68/100\n",
      "2280/2280 - 3s - loss: 0.0885\n",
      "Epoch 69/100\n",
      "2280/2280 - 3s - loss: 0.0910\n",
      "Epoch 70/100\n",
      "2280/2280 - 3s - loss: 0.0873\n",
      "Epoch 71/100\n",
      "2280/2280 - 3s - loss: 0.0946\n",
      "Epoch 72/100\n",
      "2280/2280 - 3s - loss: 0.0851\n",
      "Epoch 73/100\n",
      "2280/2280 - 3s - loss: 0.0862\n",
      "Epoch 74/100\n",
      "2280/2280 - 3s - loss: 0.0901\n",
      "Epoch 75/100\n",
      "2280/2280 - 3s - loss: 0.0880\n",
      "Epoch 76/100\n",
      "2280/2280 - 3s - loss: 0.0840\n",
      "Epoch 77/100\n",
      "2280/2280 - 3s - loss: 0.0859\n",
      "Epoch 78/100\n",
      "2280/2280 - 3s - loss: 0.0855\n",
      "Epoch 79/100\n",
      "2280/2280 - 3s - loss: 0.0831\n",
      "Epoch 80/100\n",
      "2280/2280 - 3s - loss: 0.0942\n",
      "Epoch 81/100\n",
      "2280/2280 - 3s - loss: 0.0826\n",
      "Epoch 82/100\n",
      "2280/2280 - 3s - loss: 0.0779\n",
      "Epoch 83/100\n",
      "2280/2280 - 3s - loss: 0.0861\n",
      "Epoch 84/100\n",
      "2280/2280 - 3s - loss: 0.0833\n",
      "Epoch 85/100\n",
      "2280/2280 - 3s - loss: 0.0819\n",
      "Epoch 86/100\n",
      "2280/2280 - 3s - loss: 0.0838\n",
      "Epoch 87/100\n",
      "2280/2280 - 3s - loss: 0.0774\n",
      "Epoch 88/100\n",
      "2280/2280 - 3s - loss: 0.0836\n",
      "Epoch 89/100\n",
      "2280/2280 - 3s - loss: 0.0823\n",
      "Epoch 90/100\n",
      "2280/2280 - 3s - loss: 0.0761\n",
      "Epoch 91/100\n",
      "2280/2280 - 3s - loss: 0.0830\n",
      "Epoch 92/100\n",
      "2280/2280 - 3s - loss: 0.0778\n",
      "Epoch 93/100\n",
      "2280/2280 - 3s - loss: 0.0773\n",
      "Epoch 94/100\n",
      "2280/2280 - 3s - loss: 0.0757\n",
      "Epoch 95/100\n",
      "2280/2280 - 3s - loss: 0.0813\n",
      "Epoch 96/100\n",
      "2280/2280 - 3s - loss: 0.0752\n",
      "Epoch 97/100\n",
      "2280/2280 - 3s - loss: 0.0756\n",
      "Epoch 98/100\n",
      "2280/2280 - 3s - loss: 0.0766\n",
      "Epoch 99/100\n",
      "2280/2280 - 3s - loss: 0.0772\n",
      "Epoch 100/100\n",
      "2280/2280 - 3s - loss: 0.0751\n"
     ]
    },
    {
     "data": {
      "text/plain": [
       "<tensorflow.python.keras.callbacks.History at 0x7f59700f4390>"
      ]
     },
     "execution_count": 12,
     "metadata": {
      "tags": []
     },
     "output_type": "execute_result"
    }
   ],
   "source": [
    "from sklearn import metrics\n",
    "import numpy as np\n",
    "import pandas as pd\n",
    "from IPython.display import display, HTML \n",
    "import tensorflow as tf\n",
    "from tensorflow.keras.models import Sequential\n",
    "from tensorflow.keras.layers import Dense, Activation\n",
    "\n",
    "#Here we go! Our model!\n",
    "model = Sequential()\n",
    "model.add(Dense(25, input_dim=x_normal.shape[1], activation='relu'))\n",
    "model.add(Dense(3, activation='relu')) # size to compress to\n",
    "model.add(Dense(25, activation='relu'))\n",
    "model.add(Dense(x_normal.shape[1])) # Multiple output neurons\n",
    "model.compile(loss='mean_squared_error', optimizer='adam')\n",
    "model.fit(x_normal_train,x_normal_train,verbose=2,epochs=100)"
   ]
  },
  {
   "cell_type": "code",
   "execution_count": 13,
   "id": "sustainable-holiday",
   "metadata": {
    "colab": {
     "base_uri": "https://localhost:8080/"
    },
    "id": "sustainable-holiday",
    "outputId": "afc351f4-7058-4d3e-9faf-0ca60e39bd92"
   },
   "outputs": [
    {
     "name": "stdout",
     "output_type": "stream",
     "text": [
      "Out of Sample Normal Score (RMSE): 0.3081728513351363\n",
      "Insample Normal Score (RMSE): 0.32222162701051993\n",
      "Attack Underway Score (RMSE): 0.5667091608570322\n"
     ]
    }
   ],
   "source": [
    "#predicting!\n",
    "pred = model.predict(x_normal_test)\n",
    "score1 = np.sqrt(metrics.mean_squared_error(pred,x_normal_test))\n",
    "pred = model.predict(x_normal)\n",
    "score2 = np.sqrt(metrics.mean_squared_error(pred,x_normal))\n",
    "pred = model.predict(x_attack)\n",
    "score3 = np.sqrt(metrics.mean_squared_error(pred,x_attack))\n",
    "print(f\"Out of Sample Normal Score (RMSE): {score1}\")\n",
    "print(f\"Insample Normal Score (RMSE): {score2}\")\n",
    "print(f\"Attack Underway Score (RMSE): {score3}\")"
   ]
  },
  {
   "cell_type": "code",
   "execution_count": 13,
   "id": "X_1l3_1GOkIS",
   "metadata": {
    "id": "X_1l3_1GOkIS"
   },
   "outputs": [],
   "source": []
  }
 ],
 "metadata": {
  "accelerator": "GPU",
  "colab": {
   "name": "Untitled.ipynb",
   "provenance": []
  },
  "kernelspec": {
   "display_name": "Python 3.7 (tensorflow)",
   "language": "python",
   "name": "tensorflow"
  },
  "language_info": {
   "codemirror_mode": {
    "name": "ipython",
    "version": 3
   },
   "file_extension": ".py",
   "mimetype": "text/x-python",
   "name": "python",
   "nbconvert_exporter": "python",
   "pygments_lexer": "ipython3",
   "version": "3.7.9"
  }
 },
 "nbformat": 4,
 "nbformat_minor": 5
}
