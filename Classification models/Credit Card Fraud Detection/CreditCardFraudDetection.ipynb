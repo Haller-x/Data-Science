{
 "cells": [
  {
   "cell_type": "markdown",
   "metadata": {},
   "source": [
    "## Context\n",
    "It is important that credit card companies are able to recognize fraudulent credit card transactions so that customers are not charged for items that they did not purchase.\n",
    "\n",
    "## Content\n",
    "The datasets contains transactions made by credit cards in September 2013 by european cardholders.\n",
    "This dataset presents transactions that occurred in two days, where we have 492 frauds out of 284,807 transactions. The dataset is highly unbalanced, the positive class (frauds) account for 0.172% of all transactions.\n",
    "\n",
    "It contains only numerical input variables which are the result of a PCA transformation. Unfortunately, due to confidentiality issues, we cannot provide the original features and more background information about the data. Features V1, V2, … V28 are the principal components obtained with PCA, the only features which have not been transformed with PCA are 'Time' and 'Amount'. Feature 'Time' contains the seconds elapsed between each transaction and the first transaction in the dataset. The feature 'Amount' is the transaction Amount, this feature can be used for example-dependant cost-senstive learning. Feature 'Class' is the response variable and it takes value 1 in case of fraud and 0 otherwise.\n",
    "\n",
    "## Inspiration\n",
    "Identify fraudulent credit card transactions.\n",
    "\n",
    "Given the class imbalance ratio, we recommend measuring the accuracy using the Area Under the Precision-Recall Curve (AUPRC). Confusion matrix accuracy is not meaningful for unbalanced classification."
   ]
  },
  {
   "cell_type": "markdown",
   "metadata": {},
   "source": [
    "[Download the Dataset](https://www.kaggle.com/mlg-ulb/creditcardfraud) (Kaggle)"
   ]
  },
  {
   "cell_type": "code",
   "execution_count": 1,
   "metadata": {
    "scrolled": true
   },
   "outputs": [],
   "source": [
    "#Importing modules\n",
    "import numpy as np \n",
    "import pandas as pd \n",
    "import matplotlib.pyplot as plt\n",
    "import seaborn as sns\n",
    "from sklearn.model_selection import train_test_split\n",
    "from sklearn.ensemble import RandomForestClassifier\n",
    "from sklearn.metrics import confusion_matrix\n",
    "from sklearn.metrics import classification_report\n",
    "from sklearn.model_selection import cross_validate\n",
    "from catboost import CatBoostClassifier\n",
    "from sklearn.metrics import precision_recall_curve\n",
    "from sklearn.metrics import plot_precision_recall_curve\n",
    "from sklearn.metrics import average_precision_score\n",
    "import locale"
   ]
  },
  {
   "cell_type": "code",
   "execution_count": 2,
   "metadata": {
    "scrolled": true
   },
   "outputs": [],
   "source": [
    "#Setting currency (€)\n",
    "locale.setlocale(locale.LC_MONETARY, 'de_DE');"
   ]
  },
  {
   "cell_type": "code",
   "execution_count": 3,
   "metadata": {
    "_cell_guid": "79c7e3d0-c299-4dcb-8224-4455121ee9b0",
    "_uuid": "d629ff2d2480ee46fbb7e2d37f6b5fab8052498a"
   },
   "outputs": [
    {
     "data": {
      "text/html": [
       "<div>\n",
       "<style scoped>\n",
       "    .dataframe tbody tr th:only-of-type {\n",
       "        vertical-align: middle;\n",
       "    }\n",
       "\n",
       "    .dataframe tbody tr th {\n",
       "        vertical-align: top;\n",
       "    }\n",
       "\n",
       "    .dataframe thead th {\n",
       "        text-align: right;\n",
       "    }\n",
       "</style>\n",
       "<table border=\"1\" class=\"dataframe\">\n",
       "  <thead>\n",
       "    <tr style=\"text-align: right;\">\n",
       "      <th></th>\n",
       "      <th>Time</th>\n",
       "      <th>V1</th>\n",
       "      <th>V2</th>\n",
       "      <th>V3</th>\n",
       "      <th>V4</th>\n",
       "      <th>V5</th>\n",
       "      <th>V6</th>\n",
       "      <th>V7</th>\n",
       "      <th>V8</th>\n",
       "      <th>V9</th>\n",
       "      <th>...</th>\n",
       "      <th>V21</th>\n",
       "      <th>V22</th>\n",
       "      <th>V23</th>\n",
       "      <th>V24</th>\n",
       "      <th>V25</th>\n",
       "      <th>V26</th>\n",
       "      <th>V27</th>\n",
       "      <th>V28</th>\n",
       "      <th>Amount</th>\n",
       "      <th>Class</th>\n",
       "    </tr>\n",
       "  </thead>\n",
       "  <tbody>\n",
       "    <tr>\n",
       "      <th>0</th>\n",
       "      <td>0.0</td>\n",
       "      <td>-1.359807</td>\n",
       "      <td>-0.072781</td>\n",
       "      <td>2.536347</td>\n",
       "      <td>1.378155</td>\n",
       "      <td>-0.338321</td>\n",
       "      <td>0.462388</td>\n",
       "      <td>0.239599</td>\n",
       "      <td>0.098698</td>\n",
       "      <td>0.363787</td>\n",
       "      <td>...</td>\n",
       "      <td>-0.018307</td>\n",
       "      <td>0.277838</td>\n",
       "      <td>-0.110474</td>\n",
       "      <td>0.066928</td>\n",
       "      <td>0.128539</td>\n",
       "      <td>-0.189115</td>\n",
       "      <td>0.133558</td>\n",
       "      <td>-0.021053</td>\n",
       "      <td>149.62</td>\n",
       "      <td>0</td>\n",
       "    </tr>\n",
       "    <tr>\n",
       "      <th>1</th>\n",
       "      <td>0.0</td>\n",
       "      <td>1.191857</td>\n",
       "      <td>0.266151</td>\n",
       "      <td>0.166480</td>\n",
       "      <td>0.448154</td>\n",
       "      <td>0.060018</td>\n",
       "      <td>-0.082361</td>\n",
       "      <td>-0.078803</td>\n",
       "      <td>0.085102</td>\n",
       "      <td>-0.255425</td>\n",
       "      <td>...</td>\n",
       "      <td>-0.225775</td>\n",
       "      <td>-0.638672</td>\n",
       "      <td>0.101288</td>\n",
       "      <td>-0.339846</td>\n",
       "      <td>0.167170</td>\n",
       "      <td>0.125895</td>\n",
       "      <td>-0.008983</td>\n",
       "      <td>0.014724</td>\n",
       "      <td>2.69</td>\n",
       "      <td>0</td>\n",
       "    </tr>\n",
       "    <tr>\n",
       "      <th>2</th>\n",
       "      <td>1.0</td>\n",
       "      <td>-1.358354</td>\n",
       "      <td>-1.340163</td>\n",
       "      <td>1.773209</td>\n",
       "      <td>0.379780</td>\n",
       "      <td>-0.503198</td>\n",
       "      <td>1.800499</td>\n",
       "      <td>0.791461</td>\n",
       "      <td>0.247676</td>\n",
       "      <td>-1.514654</td>\n",
       "      <td>...</td>\n",
       "      <td>0.247998</td>\n",
       "      <td>0.771679</td>\n",
       "      <td>0.909412</td>\n",
       "      <td>-0.689281</td>\n",
       "      <td>-0.327642</td>\n",
       "      <td>-0.139097</td>\n",
       "      <td>-0.055353</td>\n",
       "      <td>-0.059752</td>\n",
       "      <td>378.66</td>\n",
       "      <td>0</td>\n",
       "    </tr>\n",
       "    <tr>\n",
       "      <th>3</th>\n",
       "      <td>1.0</td>\n",
       "      <td>-0.966272</td>\n",
       "      <td>-0.185226</td>\n",
       "      <td>1.792993</td>\n",
       "      <td>-0.863291</td>\n",
       "      <td>-0.010309</td>\n",
       "      <td>1.247203</td>\n",
       "      <td>0.237609</td>\n",
       "      <td>0.377436</td>\n",
       "      <td>-1.387024</td>\n",
       "      <td>...</td>\n",
       "      <td>-0.108300</td>\n",
       "      <td>0.005274</td>\n",
       "      <td>-0.190321</td>\n",
       "      <td>-1.175575</td>\n",
       "      <td>0.647376</td>\n",
       "      <td>-0.221929</td>\n",
       "      <td>0.062723</td>\n",
       "      <td>0.061458</td>\n",
       "      <td>123.50</td>\n",
       "      <td>0</td>\n",
       "    </tr>\n",
       "    <tr>\n",
       "      <th>4</th>\n",
       "      <td>2.0</td>\n",
       "      <td>-1.158233</td>\n",
       "      <td>0.877737</td>\n",
       "      <td>1.548718</td>\n",
       "      <td>0.403034</td>\n",
       "      <td>-0.407193</td>\n",
       "      <td>0.095921</td>\n",
       "      <td>0.592941</td>\n",
       "      <td>-0.270533</td>\n",
       "      <td>0.817739</td>\n",
       "      <td>...</td>\n",
       "      <td>-0.009431</td>\n",
       "      <td>0.798278</td>\n",
       "      <td>-0.137458</td>\n",
       "      <td>0.141267</td>\n",
       "      <td>-0.206010</td>\n",
       "      <td>0.502292</td>\n",
       "      <td>0.219422</td>\n",
       "      <td>0.215153</td>\n",
       "      <td>69.99</td>\n",
       "      <td>0</td>\n",
       "    </tr>\n",
       "  </tbody>\n",
       "</table>\n",
       "<p>5 rows × 31 columns</p>\n",
       "</div>"
      ],
      "text/plain": [
       "   Time        V1        V2        V3        V4        V5        V6        V7  \\\n",
       "0   0.0 -1.359807 -0.072781  2.536347  1.378155 -0.338321  0.462388  0.239599   \n",
       "1   0.0  1.191857  0.266151  0.166480  0.448154  0.060018 -0.082361 -0.078803   \n",
       "2   1.0 -1.358354 -1.340163  1.773209  0.379780 -0.503198  1.800499  0.791461   \n",
       "3   1.0 -0.966272 -0.185226  1.792993 -0.863291 -0.010309  1.247203  0.237609   \n",
       "4   2.0 -1.158233  0.877737  1.548718  0.403034 -0.407193  0.095921  0.592941   \n",
       "\n",
       "         V8        V9  ...       V21       V22       V23       V24       V25  \\\n",
       "0  0.098698  0.363787  ... -0.018307  0.277838 -0.110474  0.066928  0.128539   \n",
       "1  0.085102 -0.255425  ... -0.225775 -0.638672  0.101288 -0.339846  0.167170   \n",
       "2  0.247676 -1.514654  ...  0.247998  0.771679  0.909412 -0.689281 -0.327642   \n",
       "3  0.377436 -1.387024  ... -0.108300  0.005274 -0.190321 -1.175575  0.647376   \n",
       "4 -0.270533  0.817739  ... -0.009431  0.798278 -0.137458  0.141267 -0.206010   \n",
       "\n",
       "        V26       V27       V28  Amount  Class  \n",
       "0 -0.189115  0.133558 -0.021053  149.62      0  \n",
       "1  0.125895 -0.008983  0.014724    2.69      0  \n",
       "2 -0.139097 -0.055353 -0.059752  378.66      0  \n",
       "3 -0.221929  0.062723  0.061458  123.50      0  \n",
       "4  0.502292  0.219422  0.215153   69.99      0  \n",
       "\n",
       "[5 rows x 31 columns]"
      ]
     },
     "execution_count": 3,
     "metadata": {},
     "output_type": "execute_result"
    }
   ],
   "source": [
    "#reading the dataset\n",
    "df = pd.read_csv('creditcard.csv')#set to the right location\n",
    "df.head()"
   ]
  },
  {
   "cell_type": "code",
   "execution_count": 4,
   "metadata": {},
   "outputs": [
    {
     "data": {
      "image/png": "[encoded data removed]",
      "text/plain": [
       "<Figure size 1296x288 with 2 Axes>"
      ]
     },
     "metadata": {
      "needs_background": "light"
     },
     "output_type": "display_data"
    }
   ],
   "source": [
    "#Let's see the Amount's distribution and Transaction time for non-fraud class!\n",
    "fig, ax = plt.subplots(1, 2, figsize=(18,4))\n",
    "amount_val = df.loc[df['Class']==0]['Amount'].values\n",
    "time_val = df.loc[df['Class']==0]['Time'].values\n",
    "sns.distplot(amount_val, ax=ax[0], color='b')\n",
    "\n",
    "ax[0].set_title('Distribution of Transaction Amount - Non-fraud ', fontsize=14)\n",
    "ax[0].set_xlim([min(amount_val), max(amount_val)])\n",
    "sns.distplot(time_val, ax=ax[1], color='b')\n",
    "\n",
    "ax[1].set_title('Distribution of Transaction Time - Non-fraud ', fontsize=14)\n",
    "ax[1].set_xlim([min(time_val), max(time_val)])\n",
    "\n",
    "plt.show()"
   ]
  },
  {
   "cell_type": "code",
   "execution_count": 5,
   "metadata": {},
   "outputs": [
    {
     "data": {
      "image/png": "[encoded data removed]",
      "text/plain": [
       "<Figure size 1296x288 with 2 Axes>"
      ]
     },
     "metadata": {
      "needs_background": "light"
     },
     "output_type": "display_data"
    }
   ],
   "source": [
    "#Let's see the Amount's distribution and Transaction time for Fraud class!\n",
    "fig, ax = plt.subplots(1, 2, figsize=(18,4))\n",
    "\n",
    "amount_val_f = df.loc[df['Class']==1]['Amount'].values\n",
    "time_val_f = df.loc[df['Class']==1]['Time'].values\n",
    "\n",
    "sns.distplot(amount_val, ax=ax[0], color='r')\n",
    "ax[0].set_title('Distribution of Transaction Amount - Fraud ', fontsize=14)\n",
    "ax[0].set_xlim([min(amount_val_f), max(amount_val_f)])\n",
    "\n",
    "sns.distplot(time_val_f, ax=ax[1], color='r')\n",
    "ax[1].set_title('Distribution of Transaction Time - Fraud ', fontsize=14)\n",
    "ax[1].set_xlim([min(time_val_f), max(time_val_f)])\n",
    "\n",
    "plt.show()"
   ]
  },
  {
   "cell_type": "code",
   "execution_count": 6,
   "metadata": {},
   "outputs": [
    {
     "name": "stdout",
     "output_type": "stream",
     "text": [
      "Non-Fraud amont's mean: 88.29102242225574\n",
      "Non-Fraud amont's median: 22.0\n",
      "--\n",
      "Fraud amont's mean: 122.21132113821133\n",
      "Fraud amont's median: 9.25\n"
     ]
    }
   ],
   "source": [
    "#let's see the amont's mean for each class\n",
    "print(\"Non-Fraud amont's mean: {}\".format(df[df['Class']==0]['Amount'].mean()))\n",
    "print(\"Non-Fraud amont's median: {}\".format(df[df['Class']==0]['Amount'].median()))\n",
    "print('--')\n",
    "print(\"Fraud amont's mean: {}\".format(df[df['Class']==1]['Amount'].mean()))\n",
    "print(\"Fraud amont's median: {}\".format(df[df['Class']==1]['Amount'].median()))"
   ]
  },
  {
   "cell_type": "code",
   "execution_count": 7,
   "metadata": {},
   "outputs": [
    {
     "data": {
      "image/png": "[encoded data removed]",
      "text/plain": [
       "<Figure size 432x720 with 1 Axes>"
      ]
     },
     "metadata": {
      "needs_background": "light"
     },
     "output_type": "display_data"
    }
   ],
   "source": [
    "#Boxplot for amount's distribution for each class\n",
    "df.boxplot(by='Class', column=['Amount'],grid=True,figsize=(6,10))\n",
    "plt.title('Boxplot amount per transaction')\n",
    "plt.suptitle('')\n",
    "plt.ylabel('Transaction amount')\n",
    "plt.xlabel('Fraud (1) or Non-Fraud(0)')\n",
    "plt.show()"
   ]
  },
  {
   "cell_type": "code",
   "execution_count": 8,
   "metadata": {},
   "outputs": [
    {
     "name": "stdout",
     "output_type": "stream",
     "text": [
      "Number of features: 30\n"
     ]
    }
   ],
   "source": [
    "#let's see the number of features - subtracting the target\n",
    "print('Number of features: {}'.format(len(df.columns)-1))"
   ]
  },
  {
   "cell_type": "code",
   "execution_count": 9,
   "metadata": {},
   "outputs": [],
   "source": [
    "#defining our target!\n",
    "X = df.drop('Class',axis=1)\n",
    "y = df['Class']"
   ]
  },
  {
   "cell_type": "code",
   "execution_count": 10,
   "metadata": {},
   "outputs": [
    {
     "name": "stdout",
     "output_type": "stream",
     "text": [
      "Nº Non-Fraud train: 227451\n",
      "Nº Fraud train: 394\n",
      "Fraud %: 0.9982707542408216\n",
      "-----------------\n",
      "Nº Non-Fraud test: 56864\n",
      "Nº Fraud test: 98\n",
      "Fraud %: 0.9982795547909132\n"
     ]
    }
   ],
   "source": [
    "#Split the X and Y into train and test partition! And looking for the distribution!\n",
    "X_train, X_test, y_train, y_test = train_test_split(X, y, random_state=42, test_size=0.2)\n",
    "print('Nº Non-Fraud train: {}'.format(y_train.value_counts()[0]))\n",
    "print('Nº Fraud train: {}'.format(y_train.value_counts()[1]))\n",
    "print('Fraud %: {}'.format(y_train.value_counts()[0]/len(y_train)))\n",
    "print('-----------------')\n",
    "print('Nº Non-Fraud test: {}'.format(y_test.value_counts()[0]))\n",
    "print('Nº Fraud test: {}'.format(y_test.value_counts()[1]))\n",
    "print('Fraud %: {}'.format(y_test.value_counts()[0]/len(y_test)))\n"
   ]
  },
  {
   "cell_type": "code",
   "execution_count": 11,
   "metadata": {},
   "outputs": [
    {
     "name": "stdout",
     "output_type": "stream",
     "text": [
      "   Features  Importance\n",
      "17      V17    0.157526\n",
      "12      V12    0.134800\n",
      "14      V14    0.124608\n",
      "10      V10    0.081166\n",
      "16      V16    0.074635\n",
      "11      V11    0.057927\n",
      "9        V9    0.034041\n",
      "7        V7    0.029772\n",
      "18      V18    0.028322\n",
      "4        V4    0.026813\n",
      "21      V21    0.018452\n",
      "3        V3    0.017194\n",
      "26      V26    0.017114\n",
      "2        V2    0.014254\n",
      "20      V20    0.014003\n",
      "1        V1    0.013598\n",
      "19      V19    0.013545\n",
      "6        V6    0.012791\n",
      "29   Amount    0.012721\n",
      "8        V8    0.012556\n",
      "15      V15    0.012203\n",
      "0      Time    0.011629\n",
      "5        V5    0.011041\n",
      "22      V22    0.010928\n",
      "27      V27    0.010803\n",
      "24      V24    0.010626\n",
      "28      V28    0.010427\n",
      "13      V13    0.009855\n",
      "25      V25    0.008379\n",
      "23      V23    0.008271\n"
     ]
    }
   ],
   "source": [
    "#using a simple Random Forest to find the best's features!\n",
    "rf = RandomForestClassifier(random_state=42).fit(X_train,y_train)\n",
    "imp = pd.DataFrame({'Features':X_train.columns, 'Importance': rf.feature_importances_})\n",
    "print(imp.sort_values(by=['Importance'],ascending=False))"
   ]
  },
  {
   "cell_type": "code",
   "execution_count": 12,
   "metadata": {},
   "outputs": [
    {
     "data": {
      "image/png": "[encoded data removed]",
      "text/plain": [
       "<Figure size 864x360 with 1 Axes>"
      ]
     },
     "metadata": {
      "needs_background": "light"
     },
     "output_type": "display_data"
    }
   ],
   "source": [
    "#Looking at the RF feature importance using bar chart!\n",
    "plt.figure(figsize=(12,5))\n",
    "plt.xticks(range(len(imp)), imp['Features'])\n",
    "plt.xlabel('Features')\n",
    "plt.ylabel('Importance')\n",
    "plt.title('Features importance - RF')\n",
    "plt.bar(range(len(imp)), imp['Importance']);"
   ]
  },
  {
   "cell_type": "code",
   "execution_count": 13,
   "metadata": {},
   "outputs": [
    {
     "data": {
      "image/png": "[encoded data removed]",
      "text/plain": [
       "<Figure size 720x720 with 2 Axes>"
      ]
     },
     "metadata": {
      "needs_background": "light"
     },
     "output_type": "display_data"
    }
   ],
   "source": [
    "#let's see correlation heatmap\n",
    "plt.figure(figsize=[10,10])\n",
    "plt.title('Correlation HeatMap')\n",
    "sns.heatmap(df.corr());"
   ]
  },
  {
   "cell_type": "code",
   "execution_count": 14,
   "metadata": {},
   "outputs": [
    {
     "data": {
      "text/plain": [
       "V17      -0.326481\n",
       "V14      -0.302544\n",
       "V12      -0.260593\n",
       "V10      -0.216883\n",
       "V16      -0.196539\n",
       "V3       -0.192961\n",
       "V7       -0.187257\n",
       "V18      -0.111485\n",
       "V1       -0.101347\n",
       "V9       -0.097733\n",
       "V5       -0.094974\n",
       "V6       -0.043643\n",
       "Time     -0.012323\n",
       "V24      -0.007221\n",
       "V13      -0.004570\n",
       "V15      -0.004223\n",
       "V23      -0.002685\n",
       "V22       0.000805\n",
       "V25       0.003308\n",
       "V26       0.004455\n",
       "Amount    0.005632\n",
       "V28       0.009536\n",
       "V27       0.017580\n",
       "V8        0.019875\n",
       "V20       0.020090\n",
       "V19       0.034783\n",
       "V21       0.040413\n",
       "V2        0.091289\n",
       "V4        0.133447\n",
       "V11       0.154876\n",
       "Class     1.000000\n",
       "Name: Class, dtype: float64"
      ]
     },
     "execution_count": 14,
     "metadata": {},
     "output_type": "execute_result"
    }
   ],
   "source": [
    "#lets see the correlation only for the target column!\n",
    "df.corr()['Class'].sort_values()"
   ]
  },
  {
   "cell_type": "code",
   "execution_count": 15,
   "metadata": {},
   "outputs": [],
   "source": [
    "#lets use top 8 features and amount!\n",
    "#This features were selected using RF importance and higher correlation with the target!\n",
    "features = ['V17','V14','V12','V11','V16','V10','V4','V3', 'Amount']"
   ]
  },
  {
   "cell_type": "code",
   "execution_count": 16,
   "metadata": {},
   "outputs": [],
   "source": [
    "#Creating the model - fitting and predicting also!\n",
    "model = CatBoostClassifier(verbose=False,random_state=42)\n",
    "model.fit(X_train[features],y_train)\n",
    "y_pred_train = model.predict(X_train[features])\n",
    "y_pred_test = model.predict(X_test[features])"
   ]
  },
  {
   "cell_type": "code",
   "execution_count": 17,
   "metadata": {},
   "outputs": [
    {
     "name": "stdout",
     "output_type": "stream",
     "text": [
      "\t\t\tTraining Set evaluation\n",
      "              precision    recall  f1-score   support\n",
      "\n",
      "           0       1.00      1.00      1.00    227483\n",
      "           1       0.90      0.98      0.94       362\n",
      "\n",
      "    accuracy                           1.00    227845\n",
      "   macro avg       0.95      0.99      0.97    227845\n",
      "weighted avg       1.00      1.00      1.00    227845\n",
      "\n",
      "\n",
      "Confusion Matrix\n",
      "[[227445     38]\n",
      " [     6    356]]\n"
     ]
    }
   ],
   "source": [
    "print('\\t\\t\\tTraining Set evaluation')\n",
    "print(classification_report(y_pred_train,y_train))\n",
    "print('\\nConfusion Matrix')\n",
    "print(confusion_matrix(y_pred_train,y_train))"
   ]
  },
  {
   "cell_type": "code",
   "execution_count": 18,
   "metadata": {},
   "outputs": [
    {
     "name": "stdout",
     "output_type": "stream",
     "text": [
      "\t\t\tTest Set evaluation\n",
      "              precision    recall  f1-score   support\n",
      "\n",
      "           0       1.00      1.00      1.00     56879\n",
      "           1       0.82      0.96      0.88        83\n",
      "\n",
      "    accuracy                           1.00     56962\n",
      "   macro avg       0.91      0.98      0.94     56962\n",
      "weighted avg       1.00      1.00      1.00     56962\n",
      "\n",
      "\n",
      "Confusion Matrix\n",
      "[[56861    18]\n",
      " [    3    80]]\n"
     ]
    }
   ],
   "source": [
    "print('\\t\\t\\tTest Set evaluation')\n",
    "print(classification_report(y_pred_test,y_test))\n",
    "print('\\nConfusion Matrix')\n",
    "print(confusion_matrix(y_pred_test,y_test))"
   ]
  },
  {
   "cell_type": "markdown",
   "metadata": {},
   "source": [
    "Confusion Matrix can be not meaningful so... let's see **Precision-Recall Curve (AUPRC)**"
   ]
  },
  {
   "cell_type": "code",
   "execution_count": 19,
   "metadata": {},
   "outputs": [],
   "source": [
    "average_precision = average_precision_score(y_test, y_pred_test)"
   ]
  },
  {
   "cell_type": "code",
   "execution_count": 20,
   "metadata": {
    "scrolled": true
   },
   "outputs": [
    {
     "data": {
      "image/png": "[encoded data removed]",
      "text/plain": [
       "<Figure size 432x288 with 1 Axes>"
      ]
     },
     "metadata": {
      "needs_background": "light"
     },
     "output_type": "display_data"
    }
   ],
   "source": [
    "disp = plot_precision_recall_curve(model, X_test, y_test)\n",
    "disp.ax_.set_title('2-class Precision-Recall curve: '\n",
    "                   'AP={0:0.2f}'.format(average_precision));"
   ]
  },
  {
   "cell_type": "markdown",
   "metadata": {},
   "source": [
    "The precision-recall curve shows the tradeoff between precision and recall for different threshold. **A high area under the curve represents both high recall and high precision**, where **high precision relates to a low false positive rate**, and **high recall relates to a low false negative rate**. **High scores for both show that the classifier is returning accurate results (high precision), as well as returning a majority of all positive results (high recall)**."
   ]
  },
  {
   "cell_type": "code",
   "execution_count": 21,
   "metadata": {},
   "outputs": [],
   "source": [
    "#Let's check if the model is stable - using cross validation with 5 folds and scoring using F1 Score!\n",
    "scores = cross_validate(model, X[features], y, cv=5, scoring=('f1'))"
   ]
  },
  {
   "cell_type": "code",
   "execution_count": 22,
   "metadata": {},
   "outputs": [
    {
     "data": {
      "text/plain": [
       "{'fit_time': array([68.914433  , 71.17439461, 67.3056407 , 58.215343  , 53.40870214]),\n",
       " 'score_time': array([0.07799578, 0.08403301, 0.08300138, 0.07899928, 0.08502412]),\n",
       " 'test_score': array([0.76233184, 0.85227273, 0.71578947, 0.87777778, 0.81395349])}"
      ]
     },
     "execution_count": 22,
     "metadata": {},
     "output_type": "execute_result"
    }
   ],
   "source": [
    "scores"
   ]
  },
  {
   "cell_type": "code",
   "execution_count": 23,
   "metadata": {},
   "outputs": [
    {
     "name": "stdout",
     "output_type": "stream",
     "text": [
      "F1 Score mean: 0.804, F1 Score Standard Deviation: 0.059\n"
     ]
    }
   ],
   "source": [
    "print('F1 Score mean: {}, F1 Score Standard Deviation: {}'.format(round(scores['test_score'].mean(),3),round(scores['test_score'].std(),3)))"
   ]
  },
  {
   "cell_type": "markdown",
   "metadata": {},
   "source": [
    "# Evaluation! €"
   ]
  },
  {
   "cell_type": "code",
   "execution_count": 46,
   "metadata": {},
   "outputs": [
    {
     "name": "stdout",
     "output_type": "stream",
     "text": [
      "The model would have blocked (mean) : 9.776,91 €\n",
      "------------------------------\n",
      "With the cost of : 1.589,24 €\n"
     ]
    }
   ],
   "source": [
    "print(\"The model would have blocked (mean) : {}\".format(locale.currency(\n",
    "    round(df[df[\"Class\"] == 1][\"Amount\"].describe()[1]*80, 2), grouping=True)))\n",
    "print(\"------------------------------\")\n",
    "print(\"With the cost of : {}\".format(locale.currency(\n",
    "    round(df[df[\"Class\"] == 0][\"Amount\"].describe()[1]*18, 2), grouping=True)))"
   ]
  },
  {
   "cell_type": "code",
   "execution_count": 47,
   "metadata": {},
   "outputs": [],
   "source": [
    "df_test = X_test[features].copy()\n",
    "df_test['Class'] = y_test.copy()"
   ]
  },
  {
   "cell_type": "markdown",
   "metadata": {},
   "source": [
    "# Evaluation! € - Test Partition!"
   ]
  },
  {
   "cell_type": "code",
   "execution_count": 48,
   "metadata": {},
   "outputs": [],
   "source": [
    "#Adding a new column to the dataset df_test!\n",
    "\n",
    "df_test[\"Pred\"] = model.predict(df_test[features])"
   ]
  },
  {
   "cell_type": "code",
   "execution_count": 49,
   "metadata": {},
   "outputs": [
    {
     "name": "stdout",
     "output_type": "stream",
     "text": [
      "Money amount in class Fraud: 16078,40 €\n"
     ]
    }
   ],
   "source": [
    "print('Money amount in class Fraud: {}'.format(locale.currency(df_test[df_test[\"Class\"] == 1][\"Amount\"].sum())))"
   ]
  },
  {
   "cell_type": "code",
   "execution_count": 50,
   "metadata": {},
   "outputs": [
    {
     "name": "stdout",
     "output_type": "stream",
     "text": [
      "Money amount in class Fraud - Predicted: 12243,22 €\n"
     ]
    }
   ],
   "source": [
    "print('Money amount in class Fraud - Predicted: {}'.format(locale.currency(df_test[df_test[\"Pred\"] == 1][\"Amount\"].sum())))"
   ]
  },
  {
   "cell_type": "code",
   "execution_count": 57,
   "metadata": {
    "scrolled": true
   },
   "outputs": [
    {
     "name": "stdout",
     "output_type": "stream",
     "text": [
      "Total Value: 5.002.866,02 €\n",
      "\n",
      "Blocked Value: 11.918,20 €\n",
      "\n",
      "Total % (Correct Classification - Fraud class): 74.13\n",
      "\n",
      "False Negative (Amount) : 4.160,20 €\n",
      "------------------------------\n",
      "False Positive (Amount): 325,02 €\n",
      "\n",
      "Total %  (Correct Classification - Non-Fraud class): 99.99\n"
     ]
    }
   ],
   "source": [
    "print(\"Total Value: {}\\n\".format(locale.currency(df_test['Amount'].sum(), grouping=True)))\n",
    "print(\"Blocked Value: {}\".format(locale.currency(df_test[(df_test[\"Pred\"] == 1) & (df_test[\"Class\"] == 1)][\"Amount\"].sum()\n",
    "                                                      , grouping=True)))\n",
    "print()\n",
    "print(\"Total % (Correct Classification - Fraud class): {}\".format(round(df_test[(df_test[\"Pred\"] == 1) & (df_test[\"Class\"] == 1)][\"Amount\"].sum()/\n",
    "                                              df_test[df_test[\"Class\"] == 1][\"Amount\"].sum()*100, 2)))\n",
    "print()\n",
    "print(\"False Negative (Amount) : {}\".format(locale.currency(df_test[(df_test[\"Pred\"] == 0) & (df_test[\"Class\"] == 1)][\"Amount\"].sum()\n",
    "                                                    , grouping=True)))\n",
    "print(\"------------------------------\")\n",
    "print(\"False Positive (Amount): {}\".format(locale.currency(df_test[(df_test[\"Pred\"] == 1) & (df_test[\"Class\"] == 0)][\"Amount\"].sum(), grouping=True)))\n",
    "print(\"\")\n",
    "print(\"Total %  (Correct Classification - Non-Fraud class): {}\".format(round(df_test[(df_test[\"Pred\"] == 0) & (df_test[\"Class\"] == 0)][\"Amount\"].sum()/\n",
    "                                              df_test[df_test[\"Class\"] == 0][\"Amount\"].sum()*100, 2)))"
   ]
  },
  {
   "cell_type": "markdown",
   "metadata": {},
   "source": [
    "- Blocked Value: Amount of money saved with the model!\n",
    "- False Negative: Predicted as Non-Fraud but is Fraud\n",
    "- False Positive: Predicted as Fraud but is Non-Fraud"
   ]
  },
  {
   "cell_type": "markdown",
   "metadata": {},
   "source": [
    "## With the model we would have blocked `11.918,20 €` (74.13% of all fraud), with a loss of `4.160,20 €` with the cost of `325,02 €`."
   ]
  }
 ],
 "metadata": {
  "kernelspec": {
   "display_name": "Python 3",
   "language": "python",
   "name": "python3"
  },
  "language_info": {
   "codemirror_mode": {
    "name": "ipython",
    "version": 3
   },
   "file_extension": ".py",
   "mimetype": "text/x-python",
   "name": "python",
   "nbconvert_exporter": "python",
   "pygments_lexer": "ipython3",
   "version": "3.8.3"
  }
 },
 "nbformat": 4,
 "nbformat_minor": 4
}
